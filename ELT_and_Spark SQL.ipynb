{
 "cells": [
  {
   "cell_type": "markdown",
   "metadata": {
    "application/vnd.databricks.v1+cell": {
     "cellMetadata": {},
     "inputWidgets": {},
     "nuid": "ebe62c48-4249-4969-838e-ab2f0b1a3f03",
     "showTitle": true,
     "title": "Assignment 5 : ELT and Spark SQL"
    }
   },
   "source": [
    "### Team APOGEE\n",
    "#### April 14, 2024\n"
   ]
  },
  {
   "cell_type": "markdown",
   "metadata": {
    "application/vnd.databricks.v1+cell": {
     "cellMetadata": {},
     "inputWidgets": {},
     "nuid": "3094e860-39aa-4a9e-a151-9ac80d700ce9",
     "showTitle": false,
     "title": ""
    }
   },
   "source": [
    "## Introduction\n",
    "Google Play Store, the digital distribution service by Google, stands as a cornerstone in the Android app ecosystem, offering a myriad of apps, books, music, and more. As the official marketplace for Android users, it serves as a hub for developers to showcase their creations, whether free or paid.\n",
    "Despite the vastness of the Google Play Store and its significance in the Android world, exploring its data presents unique challenges. Unlike the Apple App Store, Google Play Store data is more challenging due to dynamic page loading techniques like JQuery.\n",
    " \n",
    "The Play Store is a significant platform for Android app developers, offering vast potential for app-making businesses to thrive. By extracting actionable insights from the available data, developers can gain valuable knowledge to capture the Android market successfully. With the rapidly growth of Android devices and apps, it would be interesting to perform data analysis on the data to obtain valuable insights."
   ]
  },
  {
   "cell_type": "markdown",
   "metadata": {
    "application/vnd.databricks.v1+cell": {
     "cellMetadata": {},
     "inputWidgets": {},
     "nuid": "3006f466-d82b-455d-8634-6fcee1bdbe3f",
     "showTitle": false,
     "title": ""
    }
   },
   "source": [
    "## Objectives:\n",
    "\n",
    "- **Data Loading**: We start by loading the dataset into a Spark DataFrame, setting the stage for all subsequent analysis.\n",
    "- **Schema Review**: We examine and display the schema of the data, identifying and implementing necessary modifications to optimize the structure for analysis.\n",
    "- **Data Transformation**: Transformations are applied to the data to enhance its accuracy and usability.\n",
    "- **Persistent Storage**: The transformed data is stored in a persistent table, ensuring it remains accessible and maintainable for future analyses.\n",
    "- **Temporary View Creation**: A temporary view of the data is established, allowing for SQL-like operations which are familiar and powerful for data exploration.\n",
    "- **Data Exploration**: Through Spark SQL, we conduct comprehensive data exploration to identify key trends, patterns, and insights, aiming to understand the intricacies of app popularity and user engagement within the Google Play Store."
   ]
  },
  {
   "cell_type": "markdown",
   "metadata": {
    "application/vnd.databricks.v1+cell": {
     "cellMetadata": {},
     "inputWidgets": {},
     "nuid": "25a4c985-1dd5-4212-ae56-f7fa124c6b9f",
     "showTitle": false,
     "title": ""
    }
   },
   "source": [
    "## Data Description\n",
    "This data represents information about various mobile applications from the Google Play Store. Each row corresponds to a specific app and contains details such as the app name (App), category (Category), rating (Rating), number of reviews (Reviews), size (Size), number of installs (Installs), price (Price), content rating (Content Rating), genres (Genres), last updated date (Last Updated), current version (Current Ver), and required Android version (Android Ver). The data provides insights into app characteristics, user feedback, and popularity metrics.\n",
    " \n",
    "#### Dataset details\n",
    "- Source: The dataset is from Kaggle - Google Play Store Apps. <br>\n",
    "It contains 10k of web scraped Play Store apps data for analysing the Android market. <br>\n",
    "Link : https://www.kaggle.com/datasets/lava18/googleplay-store-apps\n",
    "- Dimensions: (10841, 13)\n",
    "- Features:\n",
    "    1. App: Name of the app\n",
    "    2. Category: Category of the app (e.g., ART_AND_DESIGN, FINANCE, COMICS, BEAUTY,etc.)\n",
    "    3. Rating: Current average rating (out of 5) on Google Play\n",
    "    4. Reviews: Number of user reviews given on the app\n",
    "    5. Size: Size of the app in MB (megabytes)\n",
    "    6. Installs: Number of times the app was downloaded from Google Play\n",
    "    7. Type: Whether the app is paid or free\n",
    "    8. Price: Price of the app in US dollars\n",
    "    9. Last Updated: Date on which the app was last updated on Google Play"
   ]
  },
  {
   "cell_type": "markdown",
   "metadata": {
    "application/vnd.databricks.v1+cell": {
     "cellMetadata": {},
     "inputWidgets": {},
     "nuid": "3eece7cb-20ae-43f4-a905-18ea302491c5",
     "showTitle": false,
     "title": ""
    }
   },
   "source": [
    "## Step 1 : Create Session\n",
    "Let's start by initializing the SparkContext object, sc, which serves as the entry point for Spark functionality"
   ]
  },
  {
   "cell_type": "code",
   "execution_count": 0,
   "metadata": {
    "application/vnd.databricks.v1+cell": {
     "cellMetadata": {
      "byteLimit": 2048000,
      "rowLimit": 10000
     },
     "inputWidgets": {},
     "nuid": "ed6b363b-809f-4a41-b239-b128ea93c4bc",
     "showTitle": false,
     "title": ""
    }
   },
   "outputs": [],
   "source": [
    "# SparkContext object \n",
    "sc = spark.sparkContext"
   ]
  },
  {
   "cell_type": "code",
   "execution_count": 0,
   "metadata": {
    "application/vnd.databricks.v1+cell": {
     "cellMetadata": {
      "byteLimit": 2048000,
      "rowLimit": 10000
     },
     "inputWidgets": {},
     "nuid": "8b25367f-fc84-4a11-973c-d78486b18268",
     "showTitle": false,
     "title": ""
    }
   },
   "outputs": [
    {
     "output_type": "display_data",
     "data": {
      "text/html": [
       "\n",
       "            <div>\n",
       "                <p><b>SparkSession - hive</b></p>\n",
       "                \n",
       "        <div>\n",
       "            <p><b>SparkContext</b></p>\n",
       "\n",
       "            <p><a href=\"/?o=3794378010191944#setting/sparkui/0414-213326-u2ozxcmh/driver-7504278446432563379\">Spark UI</a></p>\n",
       "\n",
       "            <dl>\n",
       "              <dt>Version</dt>\n",
       "                <dd><code>v3.3.2</code></dd>\n",
       "              <dt>Master</dt>\n",
       "                <dd><code>local[8]</code></dd>\n",
       "              <dt>AppName</dt>\n",
       "                <dd><code>Databricks Shell</code></dd>\n",
       "            </dl>\n",
       "        </div>\n",
       "        \n",
       "            </div>\n",
       "        "
      ]
     },
     "metadata": {
      "application/vnd.databricks.v1+output": {
       "addedWidgets": {},
       "arguments": {},
       "data": "\n            <div>\n                <p><b>SparkSession - hive</b></p>\n                \n        <div>\n            <p><b>SparkContext</b></p>\n\n            <p><a href=\"/?o=3794378010191944#setting/sparkui/0414-213326-u2ozxcmh/driver-7504278446432563379\">Spark UI</a></p>\n\n            <dl>\n              <dt>Version</dt>\n                <dd><code>v3.3.2</code></dd>\n              <dt>Master</dt>\n                <dd><code>local[8]</code></dd>\n              <dt>AppName</dt>\n                <dd><code>Databricks Shell</code></dd>\n            </dl>\n        </div>\n        \n            </div>\n        ",
       "datasetInfos": [],
       "metadata": {},
       "removedWidgets": [],
       "textData": null,
       "type": "htmlSandbox"
      }
     },
     "output_type": "display_data"
    }
   ],
   "source": [
    "spark "
   ]
  },
  {
   "cell_type": "markdown",
   "metadata": {
    "application/vnd.databricks.v1+cell": {
     "cellMetadata": {},
     "inputWidgets": {},
     "nuid": "58abb42d-6c1c-48c9-8ed5-2d5af2f01ef2",
     "showTitle": false,
     "title": ""
    }
   },
   "source": [
    "This output shows our Spark environment setup. It's using SparkSession with Hive support, allowing interaction with Hive data. SparkContext manages connections to the Spark cluster, and Spark UI provides a monitoring dashboard. Version v3.3.2 is running locally with 8 threads, and the app is named \"Databricks Shell\"."
   ]
  },
  {
   "cell_type": "markdown",
   "metadata": {
    "application/vnd.databricks.v1+cell": {
     "cellMetadata": {},
     "inputWidgets": {},
     "nuid": "697ee57b-d7e1-4798-8294-f89f84b10987",
     "showTitle": false,
     "title": ""
    }
   },
   "source": [
    "## Step 2 : Import\n",
    "Importing required libraries"
   ]
  },
  {
   "cell_type": "code",
   "execution_count": 0,
   "metadata": {
    "application/vnd.databricks.v1+cell": {
     "cellMetadata": {
      "byteLimit": 2048000,
      "rowLimit": 10000
     },
     "inputWidgets": {},
     "nuid": "605f9b06-a495-4b25-9c5a-676011d07495",
     "showTitle": true,
     "title": "Importing Modules and Libraries "
    }
   },
   "outputs": [
    {
     "output_type": "display_data",
     "data": {
      "application/vnd.databricks.v1+bamboolib_hint": "{\"pd.DataFrames\": [], \"version\": \"0.0.1\"}",
      "text/plain": []
     },
     "metadata": {},
     "output_type": "display_data"
    }
   ],
   "source": [
    "# import only required libraries used for data analysis and visualization tasks in this notebook\n",
    "import pandas as pd\n",
    "from pyspark.sql.functions import col\n",
    "from pyspark.sql.functions import *\n",
    "from pyspark.sql.types import *\n",
    "from pyspark.sql.functions import col, when, regexp_extract\n",
    "from pyspark import StorageLevel\n",
    "import matplotlib.pyplot as plt\n",
    "import seaborn as sns"
   ]
  },
  {
   "cell_type": "markdown",
   "metadata": {
    "application/vnd.databricks.v1+cell": {
     "cellMetadata": {},
     "inputWidgets": {},
     "nuid": "97d3bd6b-21e2-42ca-92fd-2360f9bd9d8d",
     "showTitle": false,
     "title": ""
    }
   },
   "source": [
    "## Step 3 : Load Data\n",
    "Load the dataset and display the first few rows "
   ]
  },
  {
   "cell_type": "code",
   "execution_count": 0,
   "metadata": {
    "application/vnd.databricks.v1+cell": {
     "cellMetadata": {
      "byteLimit": 2048000,
      "rowLimit": 10000
     },
     "inputWidgets": {},
     "nuid": "b533e18e-38a5-4982-879d-12403702a948",
     "showTitle": true,
     "title": "Data Loading and Schema Modification in Spark DataFrame"
    }
   },
   "outputs": [
    {
     "output_type": "display_data",
     "data": {
      "text/html": [
       "<div>\n",
       "<style scoped>\n",
       "    .dataframe tbody tr th:only-of-type {\n",
       "        vertical-align: middle;\n",
       "    }\n",
       "\n",
       "    .dataframe tbody tr th {\n",
       "        vertical-align: top;\n",
       "    }\n",
       "\n",
       "    .dataframe thead th {\n",
       "        text-align: right;\n",
       "    }\n",
       "</style>\n",
       "<table border=\"1\" class=\"dataframe\">\n",
       "  <thead>\n",
       "    <tr style=\"text-align: right;\">\n",
       "      <th></th>\n",
       "      <th>App</th>\n",
       "      <th>Category</th>\n",
       "      <th>Rating</th>\n",
       "      <th>Reviews</th>\n",
       "      <th>Size</th>\n",
       "      <th>Installs</th>\n",
       "      <th>Type</th>\n",
       "      <th>Price</th>\n",
       "      <th>Content Rating</th>\n",
       "      <th>Genres</th>\n",
       "      <th>Last Updated</th>\n",
       "      <th>Current Ver</th>\n",
       "      <th>Android Ver</th>\n",
       "    </tr>\n",
       "  </thead>\n",
       "  <tbody>\n",
       "    <tr>\n",
       "      <th>0</th>\n",
       "      <td>Photo Editor &amp; Candy Camera &amp; Grid &amp; ScrapBook</td>\n",
       "      <td>ART_AND_DESIGN</td>\n",
       "      <td>4.1</td>\n",
       "      <td>159</td>\n",
       "      <td>19M</td>\n",
       "      <td>10,000+</td>\n",
       "      <td>Free</td>\n",
       "      <td>0</td>\n",
       "      <td>Everyone</td>\n",
       "      <td>Art &amp; Design</td>\n",
       "      <td>January 7, 2018</td>\n",
       "      <td>1.0.0</td>\n",
       "      <td>4.0.3 and up</td>\n",
       "    </tr>\n",
       "    <tr>\n",
       "      <th>1</th>\n",
       "      <td>Coloring book moana</td>\n",
       "      <td>ART_AND_DESIGN</td>\n",
       "      <td>3.9</td>\n",
       "      <td>967</td>\n",
       "      <td>14M</td>\n",
       "      <td>500,000+</td>\n",
       "      <td>Free</td>\n",
       "      <td>0</td>\n",
       "      <td>Everyone</td>\n",
       "      <td>Art &amp; Design;Pretend Play</td>\n",
       "      <td>January 15, 2018</td>\n",
       "      <td>2.0.0</td>\n",
       "      <td>4.0.3 and up</td>\n",
       "    </tr>\n",
       "    <tr>\n",
       "      <th>2</th>\n",
       "      <td>U Launcher Lite – FREE Live Cool Themes, Hide ...</td>\n",
       "      <td>ART_AND_DESIGN</td>\n",
       "      <td>4.7</td>\n",
       "      <td>87510</td>\n",
       "      <td>8.7M</td>\n",
       "      <td>5,000,000+</td>\n",
       "      <td>Free</td>\n",
       "      <td>0</td>\n",
       "      <td>Everyone</td>\n",
       "      <td>Art &amp; Design</td>\n",
       "      <td>August 1, 2018</td>\n",
       "      <td>1.2.4</td>\n",
       "      <td>4.0.3 and up</td>\n",
       "    </tr>\n",
       "    <tr>\n",
       "      <th>3</th>\n",
       "      <td>Sketch - Draw &amp; Paint</td>\n",
       "      <td>ART_AND_DESIGN</td>\n",
       "      <td>4.5</td>\n",
       "      <td>215644</td>\n",
       "      <td>25M</td>\n",
       "      <td>50,000,000+</td>\n",
       "      <td>Free</td>\n",
       "      <td>0</td>\n",
       "      <td>Teen</td>\n",
       "      <td>Art &amp; Design</td>\n",
       "      <td>June 8, 2018</td>\n",
       "      <td>Varies with device</td>\n",
       "      <td>4.2 and up</td>\n",
       "    </tr>\n",
       "    <tr>\n",
       "      <th>4</th>\n",
       "      <td>Pixel Draw - Number Art Coloring Book</td>\n",
       "      <td>ART_AND_DESIGN</td>\n",
       "      <td>4.3</td>\n",
       "      <td>967</td>\n",
       "      <td>2.8M</td>\n",
       "      <td>100,000+</td>\n",
       "      <td>Free</td>\n",
       "      <td>0</td>\n",
       "      <td>Everyone</td>\n",
       "      <td>Art &amp; Design;Creativity</td>\n",
       "      <td>June 20, 2018</td>\n",
       "      <td>1.1</td>\n",
       "      <td>4.4 and up</td>\n",
       "    </tr>\n",
       "  </tbody>\n",
       "</table>\n",
       "</div>"
      ]
     },
     "metadata": {
      "application/vnd.databricks.v1+output": {
       "addedWidgets": {},
       "arguments": {},
       "data": "<div>\n<style scoped>\n    .dataframe tbody tr th:only-of-type {\n        vertical-align: middle;\n    }\n\n    .dataframe tbody tr th {\n        vertical-align: top;\n    }\n\n    .dataframe thead th {\n        text-align: right;\n    }\n</style>\n<table border=\"1\" class=\"dataframe\">\n  <thead>\n    <tr style=\"text-align: right;\">\n      <th></th>\n      <th>App</th>\n      <th>Category</th>\n      <th>Rating</th>\n      <th>Reviews</th>\n      <th>Size</th>\n      <th>Installs</th>\n      <th>Type</th>\n      <th>Price</th>\n      <th>Content Rating</th>\n      <th>Genres</th>\n      <th>Last Updated</th>\n      <th>Current Ver</th>\n      <th>Android Ver</th>\n    </tr>\n  </thead>\n  <tbody>\n    <tr>\n      <th>0</th>\n      <td>Photo Editor &amp; Candy Camera &amp; Grid &amp; ScrapBook</td>\n      <td>ART_AND_DESIGN</td>\n      <td>4.1</td>\n      <td>159</td>\n      <td>19M</td>\n      <td>10,000+</td>\n      <td>Free</td>\n      <td>0</td>\n      <td>Everyone</td>\n      <td>Art &amp; Design</td>\n      <td>January 7, 2018</td>\n      <td>1.0.0</td>\n      <td>4.0.3 and up</td>\n    </tr>\n    <tr>\n      <th>1</th>\n      <td>Coloring book moana</td>\n      <td>ART_AND_DESIGN</td>\n      <td>3.9</td>\n      <td>967</td>\n      <td>14M</td>\n      <td>500,000+</td>\n      <td>Free</td>\n      <td>0</td>\n      <td>Everyone</td>\n      <td>Art &amp; Design;Pretend Play</td>\n      <td>January 15, 2018</td>\n      <td>2.0.0</td>\n      <td>4.0.3 and up</td>\n    </tr>\n    <tr>\n      <th>2</th>\n      <td>U Launcher Lite – FREE Live Cool Themes, Hide ...</td>\n      <td>ART_AND_DESIGN</td>\n      <td>4.7</td>\n      <td>87510</td>\n      <td>8.7M</td>\n      <td>5,000,000+</td>\n      <td>Free</td>\n      <td>0</td>\n      <td>Everyone</td>\n      <td>Art &amp; Design</td>\n      <td>August 1, 2018</td>\n      <td>1.2.4</td>\n      <td>4.0.3 and up</td>\n    </tr>\n    <tr>\n      <th>3</th>\n      <td>Sketch - Draw &amp; Paint</td>\n      <td>ART_AND_DESIGN</td>\n      <td>4.5</td>\n      <td>215644</td>\n      <td>25M</td>\n      <td>50,000,000+</td>\n      <td>Free</td>\n      <td>0</td>\n      <td>Teen</td>\n      <td>Art &amp; Design</td>\n      <td>June 8, 2018</td>\n      <td>Varies with device</td>\n      <td>4.2 and up</td>\n    </tr>\n    <tr>\n      <th>4</th>\n      <td>Pixel Draw - Number Art Coloring Book</td>\n      <td>ART_AND_DESIGN</td>\n      <td>4.3</td>\n      <td>967</td>\n      <td>2.8M</td>\n      <td>100,000+</td>\n      <td>Free</td>\n      <td>0</td>\n      <td>Everyone</td>\n      <td>Art &amp; Design;Creativity</td>\n      <td>June 20, 2018</td>\n      <td>1.1</td>\n      <td>4.4 and up</td>\n    </tr>\n  </tbody>\n</table>\n</div>",
       "datasetInfos": [],
       "metadata": {},
       "removedWidgets": [],
       "textData": null,
       "type": "htmlSandbox"
      }
     },
     "output_type": "display_data"
    }
   ],
   "source": [
    "# Read the file into a Spark DataFrame\n",
    "df_spark = spark.read.csv(\"/FileStore/tables/googleplaystore.csv\", header=True, inferSchema=True)\n",
    "df = df_spark.toPandas()\n",
    "df.head()"
   ]
  },
  {
   "cell_type": "markdown",
   "metadata": {
    "application/vnd.databricks.v1+cell": {
     "cellMetadata": {},
     "inputWidgets": {},
     "nuid": "bb1e15c8-e589-4f1c-95ef-613071ef2967",
     "showTitle": false,
     "title": ""
    }
   },
   "source": [
    "So here we see all information about various mobile applications from the Google Play Store, , including categories, ratings, reviews, sizes, installs, types, prices, content ratings, genres, update dates, current versions, and Android compatibility."
   ]
  },
  {
   "cell_type": "markdown",
   "metadata": {
    "application/vnd.databricks.v1+cell": {
     "cellMetadata": {},
     "inputWidgets": {},
     "nuid": "62206290-b3ce-4508-aebf-c573e5daed7d",
     "showTitle": false,
     "title": ""
    }
   },
   "source": [
    "## Step 4 : Explore data"
   ]
  },
  {
   "cell_type": "code",
   "execution_count": 0,
   "metadata": {
    "application/vnd.databricks.v1+cell": {
     "cellMetadata": {
      "byteLimit": 2048000,
      "rowLimit": 10000
     },
     "inputWidgets": {},
     "nuid": "6a546a17-9962-4117-8caa-31dbd07a3ba3",
     "showTitle": false,
     "title": ""
    }
   },
   "outputs": [
    {
     "output_type": "stream",
     "name": "stdout",
     "output_type": "stream",
     "text": [
      "Number of Rows: 10841\nNumber of Columns: 13\n"
     ]
    }
   ],
   "source": [
    "# Count the number of rows\n",
    "num_rows = df_spark.count()\n",
    "# Get the number of columns\n",
    "num_columns = len(df_spark.columns)\n",
    "print(\"Number of Rows:\", num_rows)\n",
    "print(\"Number of Columns:\", num_columns)"
   ]
  },
  {
   "cell_type": "markdown",
   "metadata": {
    "application/vnd.databricks.v1+cell": {
     "cellMetadata": {},
     "inputWidgets": {},
     "nuid": "3a9705bb-6ee5-433d-a7e9-4201a323266b",
     "showTitle": false,
     "title": ""
    }
   },
   "source": [
    "We are calculating and displaying the total number of rows and columns in our DataFrame. Specifically, it shows that there are 10,841 rows and 13 columns, providing us with a clear initial understanding of our dataset's dimensions."
   ]
  },
  {
   "cell_type": "code",
   "execution_count": 0,
   "metadata": {
    "application/vnd.databricks.v1+cell": {
     "cellMetadata": {
      "byteLimit": 2048000,
      "rowLimit": 10000
     },
     "inputWidgets": {},
     "nuid": "a770662c-55c5-40c7-a091-194e69ba8bfd",
     "showTitle": false,
     "title": ""
    }
   },
   "outputs": [
    {
     "output_type": "stream",
     "name": "stdout",
     "output_type": "stream",
     "text": [
      "+--------------------+--------------+------+-------+----+-----------+----+-----+--------------+--------------------+------------------+------------------+------------+\n|                 App|      Category|Rating|Reviews|Size|   Installs|Type|Price|Content Rating|              Genres|      Last Updated|       Current Ver| Android Ver|\n+--------------------+--------------+------+-------+----+-----------+----+-----+--------------+--------------------+------------------+------------------+------------+\n|Photo Editor & Ca...|ART_AND_DESIGN|   4.1|    159| 19M|    10,000+|Free|    0|      Everyone|        Art & Design|   January 7, 2018|             1.0.0|4.0.3 and up|\n| Coloring book moana|ART_AND_DESIGN|   3.9|    967| 14M|   500,000+|Free|    0|      Everyone|Art & Design;Pret...|  January 15, 2018|             2.0.0|4.0.3 and up|\n|U Launcher Lite –...|ART_AND_DESIGN|   4.7|  87510|8.7M| 5,000,000+|Free|    0|      Everyone|        Art & Design|    August 1, 2018|             1.2.4|4.0.3 and up|\n|Sketch - Draw & P...|ART_AND_DESIGN|   4.5| 215644| 25M|50,000,000+|Free|    0|          Teen|        Art & Design|      June 8, 2018|Varies with device|  4.2 and up|\n|Pixel Draw - Numb...|ART_AND_DESIGN|   4.3|    967|2.8M|   100,000+|Free|    0|      Everyone|Art & Design;Crea...|     June 20, 2018|               1.1|  4.4 and up|\n|Paper flowers ins...|ART_AND_DESIGN|   4.4|    167|5.6M|    50,000+|Free|    0|      Everyone|        Art & Design|    March 26, 2017|               1.0|  2.3 and up|\n|Smoke Effect Phot...|ART_AND_DESIGN|   3.8|    178| 19M|    50,000+|Free|    0|      Everyone|        Art & Design|    April 26, 2018|               1.1|4.0.3 and up|\n|    Infinite Painter|ART_AND_DESIGN|   4.1|  36815| 29M| 1,000,000+|Free|    0|      Everyone|        Art & Design|     June 14, 2018|          6.1.61.1|  4.2 and up|\n|Garden Coloring Book|ART_AND_DESIGN|   4.4|  13791| 33M| 1,000,000+|Free|    0|      Everyone|        Art & Design|September 20, 2017|             2.9.2|  3.0 and up|\n|Kids Paint Free -...|ART_AND_DESIGN|   4.7|    121|3.1M|    10,000+|Free|    0|      Everyone|Art & Design;Crea...|      July 3, 2018|               2.8|4.0.3 and up|\n|Text on Photo - F...|ART_AND_DESIGN|   4.4|  13880| 28M| 1,000,000+|Free|    0|      Everyone|        Art & Design|  October 27, 2017|             1.0.4|  4.1 and up|\n|Name Art Photo Ed...|ART_AND_DESIGN|   4.4|   8788| 12M| 1,000,000+|Free|    0|      Everyone|        Art & Design|     July 31, 2018|            1.0.15|  4.0 and up|\n|Tattoo Name On My...|ART_AND_DESIGN|   4.2|  44829| 20M|10,000,000+|Free|    0|          Teen|        Art & Design|     April 2, 2018|               3.8|  4.1 and up|\n|Mandala Coloring ...|ART_AND_DESIGN|   4.6|   4326| 21M|   100,000+|Free|    0|      Everyone|        Art & Design|     June 26, 2018|             1.0.4|  4.4 and up|\n|3D Color Pixel by...|ART_AND_DESIGN|   4.4|   1518| 37M|   100,000+|Free|    0|      Everyone|        Art & Design|    August 3, 2018|             1.2.3|  2.3 and up|\n|Learn To Draw Kaw...|ART_AND_DESIGN|   3.2|     55|2.7M|     5,000+|Free|    0|      Everyone|        Art & Design|      June 6, 2018|               NaN|  4.2 and up|\n|Photo Designer - ...|ART_AND_DESIGN|   4.7|   3632|5.5M|   500,000+|Free|    0|      Everyone|        Art & Design|     July 31, 2018|               3.1|  4.1 and up|\n|350 Diy Room Deco...|ART_AND_DESIGN|   4.5|     27| 17M|    10,000+|Free|    0|      Everyone|        Art & Design|  November 7, 2017|               1.0|  2.3 and up|\n|FlipaClip - Carto...|ART_AND_DESIGN|   4.3| 194216| 39M| 5,000,000+|Free|    0|      Everyone|        Art & Design|    August 3, 2018|             2.2.5|4.0.3 and up|\n|        ibis Paint X|ART_AND_DESIGN|   4.6| 224399| 31M|10,000,000+|Free|    0|      Everyone|        Art & Design|     July 30, 2018|             5.5.4|  4.1 and up|\n+--------------------+--------------+------+-------+----+-----------+----+-----+--------------+--------------------+------------------+------------------+------------+\nonly showing top 20 rows\n\n"
     ]
    }
   ],
   "source": [
    "#Display dataframe\n",
    "df_spark.show()"
   ]
  },
  {
   "cell_type": "markdown",
   "metadata": {
    "application/vnd.databricks.v1+cell": {
     "cellMetadata": {},
     "inputWidgets": {},
     "nuid": "05398d4b-712a-498c-93d3-4de8e9a45caf",
     "showTitle": false,
     "title": ""
    }
   },
   "source": [
    "### Schema of the data"
   ]
  },
  {
   "cell_type": "code",
   "execution_count": 0,
   "metadata": {
    "application/vnd.databricks.v1+cell": {
     "cellMetadata": {
      "byteLimit": 2048000,
      "rowLimit": 10000
     },
     "inputWidgets": {},
     "nuid": "ac2624bd-16be-4c39-bee2-028d27457249",
     "showTitle": false,
     "title": ""
    }
   },
   "outputs": [
    {
     "output_type": "stream",
     "name": "stdout",
     "output_type": "stream",
     "text": [
      "root\n |-- App: string (nullable = true)\n |-- Category: string (nullable = true)\n |-- Rating: string (nullable = true)\n |-- Reviews: string (nullable = true)\n |-- Size: string (nullable = true)\n |-- Installs: string (nullable = true)\n |-- Type: string (nullable = true)\n |-- Price: string (nullable = true)\n |-- Content Rating: string (nullable = true)\n |-- Genres: string (nullable = true)\n |-- Last Updated: string (nullable = true)\n |-- Current Ver: string (nullable = true)\n |-- Android Ver: string (nullable = true)\n\n"
     ]
    }
   ],
   "source": [
    "# display schema\n",
    "df_spark.printSchema()"
   ]
  },
  {
   "cell_type": "markdown",
   "metadata": {
    "application/vnd.databricks.v1+cell": {
     "cellMetadata": {},
     "inputWidgets": {},
     "nuid": "3ed0d35f-957a-4a66-b446-9e1adb144e3a",
     "showTitle": false,
     "title": ""
    }
   },
   "source": [
    "This `df_spark.printSchema()` command outputs the structure of the DataFrame `df_spark`, detailing the schema of the dataset loaded from the Google Play Store. This schema outline confirms that all columns are currently treated as strings (`string` type) and are nullable, indicating they can contain null values. The dataset consists of 13 fields: App, Category, Rating, Reviews, Size, Installs, Type, Price, Content Rating, Genres, Last Updated, Current Ver, and Android Ver. This display is crucial for understanding the data types of each column and helps identify if any type conversions or schema modifications are necessary for further analysis or processing tasks.\n",
    "Here we observe that all columns are currently of string data type (string (nullable = true)). Depending on the data, we may need to convert some columns to more appropriate data types for analysis and processing."
   ]
  },
  {
   "cell_type": "markdown",
   "metadata": {
    "application/vnd.databricks.v1+cell": {
     "cellMetadata": {},
     "inputWidgets": {},
     "nuid": "1869bc59-71e5-4904-8c37-ed2ee4f6d717",
     "showTitle": false,
     "title": ""
    }
   },
   "source": [
    "### Data Standardization\n",
    "Now We are standardizing the column names within our DataFrame, `df_spark`, to enhance our data handling and processing efficiency. First, we define a new set of column names where each original name is transformed to lowercase and spaces are replaced with underscores. This step ensures that all column names adhere to a consistent format, which improves both readability and the ease of programmatically accessing these columns. For instance, a column originally named \"Last Updated\" would be renamed to \"last_updated\". Following this, we apply these revised names to our DataFrame using the `select` function, which effectively updates `df_spark` by incorporating these new aliases. This transformation is essential for avoiding issues related to case sensitivity and spaces in column names, particularly when executing SQL queries or performing DataFrame operations, thereby maintaining a streamlined and error-free coding environment."
   ]
  },
  {
   "cell_type": "code",
   "execution_count": 0,
   "metadata": {
    "application/vnd.databricks.v1+cell": {
     "cellMetadata": {
      "byteLimit": 2048000,
      "rowLimit": 10000
     },
     "inputWidgets": {},
     "nuid": "8dd972c7-85cf-4725-a140-ad08dba6f134",
     "showTitle": true,
     "title": "Data Transformation"
    }
   },
   "outputs": [],
   "source": [
    "# Define the new column names with lowercased and underscored names\n",
    "new_column_names = [col(col_name).alias(col_name.lower().replace(' ', '_')) for col_name in df_spark.columns]\n",
    "# Select the DataFrame with the new column names\n",
    "df_spark = df_spark.select(*new_column_names)"
   ]
  },
  {
   "cell_type": "code",
   "execution_count": 0,
   "metadata": {
    "application/vnd.databricks.v1+cell": {
     "cellMetadata": {
      "byteLimit": 2048000,
      "rowLimit": 10000
     },
     "inputWidgets": {},
     "nuid": "f0f5b64f-4c7d-43e4-9a87-4429d163df66",
     "showTitle": false,
     "title": ""
    }
   },
   "outputs": [
    {
     "output_type": "stream",
     "name": "stdout",
     "output_type": "stream",
     "text": [
      "+--------------------+-------------------+------+--------+------------------+---------+----+-----+--------------+--------------------+------------------+------------------+------------------+\n|                 app|           category|rating| reviews|           size_MB| installs|type|price|content_rating|              genres|      last_updated|       current_ver|       android_ver|\n+--------------------+-------------------+------+--------+------------------+---------+----+-----+--------------+--------------------+------------------+------------------+------------------+\n|            Township|             FAMILY|   4.6| 4451317|Varies with device| 50000000|Free|  0.0|      Everyone|              Casual|     July 19, 2018|             5.9.0|      4.0.3 and up|\n|      Cathay Pacific|   TRAVEL_AND_LOCAL|   3.3|    4069|              50.0|  1000000|Free|  0.0|      Everyone|      Travel & Local|     July 25, 2018|             6.6.1|        4.3 and up|\n|            Dr. 2048|             FAMILY|   3.9|    1985|               3.0|   500000|Free|  0.0|      Everyone|              Puzzle| December 30, 2017|              1.05|        4.1 and up|\n|          DL Hughley|             FAMILY|   4.6|      12|              10.0|     1000|Free|  0.0|    Mature 17+|       Entertainment|    March 23, 2018|             2.0.4|        4.1 and up|\n|      Merge Dragons!|               GAME|   4.5|  214777|              91.0|  5000000|Free|  0.0|      Everyone|              Puzzle|     July 30, 2018|             3.6.0|        4.1 and up|\n|     Viber Messenger|      COMMUNICATION|   4.3|11334799|Varies with device|500000000|Free|  0.0|      Everyone|       Communication|     July 18, 2018|Varies with device|Varies with device|\n|Bokeh (Background...|        PHOTOGRAPHY|   4.0|   50109|Varies with device| 10000000|Free|  0.0|      Everyone|         Photography|      June 7, 2018|Varies with device|Varies with device|\n|CZ-27 pistol expl...|BOOKS_AND_REFERENCE|   4.2|       1|              11.0|       10|Paid| 5.99|      Everyone|   Books & Reference| September 2, 2015|Android 3.0 - 2015|        1.6 and up|\n|Fairy Kingdom: Wo...|             FAMILY|   4.4|  129542|              63.0|  1000000|Free|  0.0|      Everyone| Strategy;Creativity|     July 23, 2018|             2.4.9|      4.0.3 and up|\n|Gboard - the Goog...|              TOOLS|   4.2| 1859115|Varies with device|500000000|Free|  0.0|      Everyone|               Tools|     July 31, 2018|Varies with device|Varies with device|\n|    Arabic Alphabets|          PARENTING|   4.2|      34|               6.0|    10000|Free|  0.0|      Everyone|           Parenting|   January 9, 2017|               1.0|        2.2 and up|\n|Voice changer wit...|             FAMILY|   4.2| 1260903|               8.0| 50000000|Free|  0.0|      Everyone|       Entertainment|    August 2, 2018|             3.4.8|        4.1 and up|\n|             JOBS.bg|           BUSINESS|   4.4|    1630|               2.0|   100000|Free|  0.0|      Everyone|            Business|   August 22, 2017|             3.1.0|        4.4 and up|\n|        S Pen Keeper|              TOOLS|   3.8|     560|             0.314|    50000|Free|  0.0|      Everyone|               Tools|      June 8, 2018|         2.1.0.032|      4.0.3 and up|\n|N Launcher: Nouga...|    PERSONALIZATION|   4.2|     128|               7.0|    10000|Free|  0.0|      Everyone|     Personalization|     June 13, 2017|               1.0|        4.1 and up|\n|Fancy Pants Adven...|               GAME|   4.7|   55952|              61.0|  1000000|Free|  0.0|  Everyone 10+|              Arcade|     July 13, 2017|            1.0.10|        4.1 and up|\n|Music for Youtube...|      VIDEO_PLAYERS|   4.3|      47|               8.0|     1000|Free|  0.0|          Teen|Video Players & E...|September 23, 2017|              1.10|        4.2 and up|\n|Talkie - Wi-Fi Ca...|      COMMUNICATION|   4.2|    4838|Varies with device|   500000|Free|  0.0|      Everyone|       Communication|   January 6, 2018|Varies with device|Varies with device|\n|         HealtheLife|            MEDICAL|   3.6|     190|               7.0|   100000|Free|  0.0|      Everyone|             Medical|   January 2, 2018|             2.4.0|        4.4 and up|\n|Cake Shop - Kids ...|             FAMILY|   4.3|   30668|              33.0|  5000000|Free|  0.0|      Everyone| Casual;Pretend Play|     July 16, 2018|          2.1.3181|      4.0.3 and up|\n+--------------------+-------------------+------+--------+------------------+---------+----+-----+--------------+--------------------+------------------+------------------+------------------+\nonly showing top 20 rows\n\n"
     ]
    }
   ],
   "source": [
    "df_spark.show()"
   ]
  },
  {
   "cell_type": "markdown",
   "metadata": {
    "application/vnd.databricks.v1+cell": {
     "cellMetadata": {},
     "inputWidgets": {},
     "nuid": "6d9dae61-2e3b-4ffa-880d-9fa436edf2b2",
     "showTitle": false,
     "title": ""
    }
   },
   "source": [
    "All column names in df_spark are now in lowercase and have spaces replaced by underscores. This standardizes naming conventions across the DataFrame, making it easier to reference columns."
   ]
  },
  {
   "cell_type": "markdown",
   "metadata": {
    "application/vnd.databricks.v1+cell": {
     "cellMetadata": {},
     "inputWidgets": {},
     "nuid": "64727852-7012-4f2f-9ed4-6b6de8a8146d",
     "showTitle": false,
     "title": ""
    }
   },
   "source": [
    "### Data Types of columns"
   ]
  },
  {
   "cell_type": "code",
   "execution_count": 0,
   "metadata": {
    "application/vnd.databricks.v1+cell": {
     "cellMetadata": {
      "byteLimit": 2048000,
      "rowLimit": 10000
     },
     "inputWidgets": {},
     "nuid": "a123fa7e-4657-42bf-a77b-a2d76aead19b",
     "showTitle": false,
     "title": ""
    }
   },
   "outputs": [
    {
     "output_type": "stream",
     "name": "stdout",
     "output_type": "stream",
     "text": [
      "Columns overview\n"
     ]
    },
    {
     "output_type": "display_data",
     "data": {
      "text/html": [
       "<div>\n",
       "<style scoped>\n",
       "    .dataframe tbody tr th:only-of-type {\n",
       "        vertical-align: middle;\n",
       "    }\n",
       "\n",
       "    .dataframe tbody tr th {\n",
       "        vertical-align: top;\n",
       "    }\n",
       "\n",
       "    .dataframe thead th {\n",
       "        text-align: right;\n",
       "    }\n",
       "</style>\n",
       "<table border=\"1\" class=\"dataframe\">\n",
       "  <thead>\n",
       "    <tr style=\"text-align: right;\">\n",
       "      <th></th>\n",
       "      <th>Column Name</th>\n",
       "      <th>Data type</th>\n",
       "    </tr>\n",
       "  </thead>\n",
       "  <tbody>\n",
       "    <tr>\n",
       "      <th>0</th>\n",
       "      <td>app</td>\n",
       "      <td>string</td>\n",
       "    </tr>\n",
       "    <tr>\n",
       "      <th>1</th>\n",
       "      <td>category</td>\n",
       "      <td>string</td>\n",
       "    </tr>\n",
       "    <tr>\n",
       "      <th>2</th>\n",
       "      <td>rating</td>\n",
       "      <td>string</td>\n",
       "    </tr>\n",
       "    <tr>\n",
       "      <th>3</th>\n",
       "      <td>reviews</td>\n",
       "      <td>string</td>\n",
       "    </tr>\n",
       "    <tr>\n",
       "      <th>4</th>\n",
       "      <td>size</td>\n",
       "      <td>string</td>\n",
       "    </tr>\n",
       "    <tr>\n",
       "      <th>5</th>\n",
       "      <td>installs</td>\n",
       "      <td>string</td>\n",
       "    </tr>\n",
       "    <tr>\n",
       "      <th>6</th>\n",
       "      <td>type</td>\n",
       "      <td>string</td>\n",
       "    </tr>\n",
       "    <tr>\n",
       "      <th>7</th>\n",
       "      <td>price</td>\n",
       "      <td>string</td>\n",
       "    </tr>\n",
       "    <tr>\n",
       "      <th>8</th>\n",
       "      <td>content_rating</td>\n",
       "      <td>string</td>\n",
       "    </tr>\n",
       "    <tr>\n",
       "      <th>9</th>\n",
       "      <td>genres</td>\n",
       "      <td>string</td>\n",
       "    </tr>\n",
       "    <tr>\n",
       "      <th>10</th>\n",
       "      <td>last_updated</td>\n",
       "      <td>string</td>\n",
       "    </tr>\n",
       "    <tr>\n",
       "      <th>11</th>\n",
       "      <td>current_ver</td>\n",
       "      <td>string</td>\n",
       "    </tr>\n",
       "    <tr>\n",
       "      <th>12</th>\n",
       "      <td>android_ver</td>\n",
       "      <td>string</td>\n",
       "    </tr>\n",
       "  </tbody>\n",
       "</table>\n",
       "</div>"
      ]
     },
     "metadata": {
      "application/vnd.databricks.v1+output": {
       "addedWidgets": {},
       "arguments": {},
       "data": "<div>\n<style scoped>\n    .dataframe tbody tr th:only-of-type {\n        vertical-align: middle;\n    }\n\n    .dataframe tbody tr th {\n        vertical-align: top;\n    }\n\n    .dataframe thead th {\n        text-align: right;\n    }\n</style>\n<table border=\"1\" class=\"dataframe\">\n  <thead>\n    <tr style=\"text-align: right;\">\n      <th></th>\n      <th>Column Name</th>\n      <th>Data type</th>\n    </tr>\n  </thead>\n  <tbody>\n    <tr>\n      <th>0</th>\n      <td>app</td>\n      <td>string</td>\n    </tr>\n    <tr>\n      <th>1</th>\n      <td>category</td>\n      <td>string</td>\n    </tr>\n    <tr>\n      <th>2</th>\n      <td>rating</td>\n      <td>string</td>\n    </tr>\n    <tr>\n      <th>3</th>\n      <td>reviews</td>\n      <td>string</td>\n    </tr>\n    <tr>\n      <th>4</th>\n      <td>size</td>\n      <td>string</td>\n    </tr>\n    <tr>\n      <th>5</th>\n      <td>installs</td>\n      <td>string</td>\n    </tr>\n    <tr>\n      <th>6</th>\n      <td>type</td>\n      <td>string</td>\n    </tr>\n    <tr>\n      <th>7</th>\n      <td>price</td>\n      <td>string</td>\n    </tr>\n    <tr>\n      <th>8</th>\n      <td>content_rating</td>\n      <td>string</td>\n    </tr>\n    <tr>\n      <th>9</th>\n      <td>genres</td>\n      <td>string</td>\n    </tr>\n    <tr>\n      <th>10</th>\n      <td>last_updated</td>\n      <td>string</td>\n    </tr>\n    <tr>\n      <th>11</th>\n      <td>current_ver</td>\n      <td>string</td>\n    </tr>\n    <tr>\n      <th>12</th>\n      <td>android_ver</td>\n      <td>string</td>\n    </tr>\n  </tbody>\n</table>\n</div>",
       "datasetInfos": [],
       "metadata": {},
       "removedWidgets": [],
       "textData": null,
       "type": "htmlSandbox"
      }
     },
     "output_type": "display_data"
    }
   ],
   "source": [
    "print('Columns overview')\n",
    "pd.DataFrame(df_spark.dtypes, columns = ['Column Name','Data type'])"
   ]
  },
  {
   "cell_type": "markdown",
   "metadata": {
    "application/vnd.databricks.v1+cell": {
     "cellMetadata": {},
     "inputWidgets": {},
     "nuid": "15a0bb9d-89f1-4662-9c04-6cf3df86b43e",
     "showTitle": false,
     "title": ""
    }
   },
   "source": [
    "Now, we create a new Pandas DataFrame that effectively showcases the data types of each column within our Spark DataFrame, `df_spark`. We achieve this by passing `df_spark.dtypes`, which is a list of tuples where each tuple contains the column name and its corresponding data type, to the Pandas DataFrame constructor. \n",
    "Since we see all are in string format, it indicates that we'll need to convert some of these columns to more appropriate data types to facilitate effective data analysis."
   ]
  },
  {
   "cell_type": "markdown",
   "metadata": {
    "application/vnd.databricks.v1+cell": {
     "cellMetadata": {},
     "inputWidgets": {},
     "nuid": "b6e602f4-92ed-4d72-8965-cfa761db2b22",
     "showTitle": false,
     "title": ""
    }
   },
   "source": [
    "### Duplicate Values\n",
    "By doing this, we ensure that each app is represented only once in our dataset, eliminating any potential skewness or redundancy in our analysis caused by duplicate data entries. This is crucial for maintaining the accuracy of our analysis, as duplicates could lead to erroneous conclusions about the popularity or user ratings of an app. Moreover, reducing the dataset size by removing duplicates also helps in improving the performance of our data processing tasks, making our operations more efficient."
   ]
  },
  {
   "cell_type": "code",
   "execution_count": 0,
   "metadata": {
    "application/vnd.databricks.v1+cell": {
     "cellMetadata": {
      "byteLimit": 2048000,
      "rowLimit": 10000
     },
     "inputWidgets": {},
     "nuid": "2002a0bd-f7d2-4798-9575-9b3191cbcfa3",
     "showTitle": false,
     "title": ""
    }
   },
   "outputs": [],
   "source": [
    "# Find duplicate rows based on the 'app' column\n",
    "#duplicate_rows = df_spark.groupBy('app').count().filter('count > 1')\n",
    "# Drop duplicate rows based on the 'app' column\n",
    "df_spark = df_spark.dropDuplicates(['app'])"
   ]
  },
  {
   "cell_type": "markdown",
   "metadata": {
    "application/vnd.databricks.v1+cell": {
     "cellMetadata": {},
     "inputWidgets": {},
     "nuid": "41caa646-aad6-4397-973b-7cbab7fbf19a",
     "showTitle": false,
     "title": ""
    }
   },
   "source": [
    "Now, We are checking number of rows in dataframe after removing duplicates."
   ]
  },
  {
   "cell_type": "code",
   "execution_count": 0,
   "metadata": {
    "application/vnd.databricks.v1+cell": {
     "cellMetadata": {
      "byteLimit": 2048000,
      "rowLimit": 10000
     },
     "inputWidgets": {},
     "nuid": "d885fc59-79eb-44c7-a56b-6cabd75b4cf3",
     "showTitle": false,
     "title": ""
    }
   },
   "outputs": [
    {
     "output_type": "stream",
     "name": "stdout",
     "output_type": "stream",
     "text": [
      "Out[11]: 9660"
     ]
    }
   ],
   "source": [
    "#Counting rows\n",
    "df_spark.count()"
   ]
  },
  {
   "cell_type": "markdown",
   "metadata": {
    "application/vnd.databricks.v1+cell": {
     "cellMetadata": {},
     "inputWidgets": {},
     "nuid": "be8ddba4-6882-4a7c-8058-ebe2fc1cc20e",
     "showTitle": false,
     "title": ""
    }
   },
   "source": [
    "### Null values in columns\n",
    "\n",
    "Now we are assessing the quality of our data by calculating the number of null values in each column of our DataFrame, `df_spark`. By understanding where nulls are concentrated, we can make informed decisions about necessary data preprocessing steps, such as imputation or exclusion of certain data. "
   ]
  },
  {
   "cell_type": "code",
   "execution_count": 0,
   "metadata": {
    "application/vnd.databricks.v1+cell": {
     "cellMetadata": {
      "byteLimit": 2048000,
      "rowLimit": 10000
     },
     "inputWidgets": {},
     "nuid": "9a31cc0d-5461-431d-954e-fabd1cac87c7",
     "showTitle": false,
     "title": ""
    }
   },
   "outputs": [
    {
     "output_type": "display_data",
     "data": {
      "text/html": [
       "<style scoped>\n",
       "  .table-result-container {\n",
       "    max-height: 300px;\n",
       "    overflow: auto;\n",
       "  }\n",
       "  table, th, td {\n",
       "    border: 1px solid black;\n",
       "    border-collapse: collapse;\n",
       "  }\n",
       "  th, td {\n",
       "    padding: 5px;\n",
       "  }\n",
       "  th {\n",
       "    text-align: left;\n",
       "  }\n",
       "</style><div class='table-result-container'><table class='table-result'><thead style='background-color: white'><tr><th>app</th><th>category</th><th>rating</th><th>reviews</th><th>size</th><th>installs</th><th>type</th><th>price</th><th>content_rating</th><th>genres</th><th>last_updated</th><th>current_ver</th><th>android_ver</th></tr></thead><tbody><tr><td>0</td><td>0</td><td>0</td><td>0</td><td>0</td><td>0</td><td>0</td><td>0</td><td>1</td><td>0</td><td>0</td><td>1</td><td>1</td></tr></tbody></table></div>"
      ]
     },
     "metadata": {
      "application/vnd.databricks.v1+output": {
       "addedWidgets": {},
       "aggData": [],
       "aggError": "",
       "aggOverflow": false,
       "aggSchema": [],
       "aggSeriesLimitReached": false,
       "aggType": "",
       "arguments": {},
       "columnCustomDisplayInfos": {},
       "data": [
        [
         0,
         0,
         0,
         0,
         0,
         0,
         0,
         0,
         1,
         0,
         0,
         1,
         1
        ]
       ],
       "datasetInfos": [],
       "dbfsResultPath": null,
       "isJsonSchema": true,
       "metadata": {},
       "overflow": false,
       "plotOptions": {
        "customPlotOptions": {},
        "displayType": "table",
        "pivotAggregation": null,
        "pivotColumns": null,
        "xColumns": null,
        "yColumns": null
       },
       "removedWidgets": [],
       "schema": [
        {
         "metadata": "{}",
         "name": "app",
         "type": "\"long\""
        },
        {
         "metadata": "{}",
         "name": "category",
         "type": "\"long\""
        },
        {
         "metadata": "{}",
         "name": "rating",
         "type": "\"long\""
        },
        {
         "metadata": "{}",
         "name": "reviews",
         "type": "\"long\""
        },
        {
         "metadata": "{}",
         "name": "size",
         "type": "\"long\""
        },
        {
         "metadata": "{}",
         "name": "installs",
         "type": "\"long\""
        },
        {
         "metadata": "{}",
         "name": "type",
         "type": "\"long\""
        },
        {
         "metadata": "{}",
         "name": "price",
         "type": "\"long\""
        },
        {
         "metadata": "{}",
         "name": "content_rating",
         "type": "\"long\""
        },
        {
         "metadata": "{}",
         "name": "genres",
         "type": "\"long\""
        },
        {
         "metadata": "{}",
         "name": "last_updated",
         "type": "\"long\""
        },
        {
         "metadata": "{}",
         "name": "current_ver",
         "type": "\"long\""
        },
        {
         "metadata": "{}",
         "name": "android_ver",
         "type": "\"long\""
        }
       ],
       "type": "table"
      }
     },
     "output_type": "display_data"
    }
   ],
   "source": [
    "# Checking Null Values in each column using count() and when() functions\n",
    "col_null_cnt_df =  df_spark.select([count(when(col(c).isNull(),c)).alias(c) for c in df_spark.columns])\n",
    "display(col_null_cnt_df)"
   ]
  },
  {
   "cell_type": "markdown",
   "metadata": {
    "application/vnd.databricks.v1+cell": {
     "cellMetadata": {},
     "inputWidgets": {},
     "nuid": "ce42def9-f4be-4ebb-a0d9-29c9087d3b0b",
     "showTitle": false,
     "title": ""
    }
   },
   "source": [
    "So we see that the columns : content_rating, current_ver and android_ver have null values. We will handle these missing values during data preprocessing."
   ]
  },
  {
   "cell_type": "markdown",
   "metadata": {
    "application/vnd.databricks.v1+cell": {
     "cellMetadata": {},
     "inputWidgets": {},
     "nuid": "70b0ad42-621a-46d6-819c-f2c7342a8a42",
     "showTitle": false,
     "title": ""
    }
   },
   "source": [
    "## Step 5: Data Preprocessing"
   ]
  },
  {
   "cell_type": "markdown",
   "metadata": {
    "application/vnd.databricks.v1+cell": {
     "cellMetadata": {},
     "inputWidgets": {},
     "nuid": "1f1b0190-0315-4f8f-a0b2-4152af6a2906",
     "showTitle": false,
     "title": ""
    }
   },
   "source": [
    "In EDA we saw that there are some missing values in come columns. We will drop such data in our dataframe. we execute the command df_spark = df_spark.dropna() to remove any rows in our DataFrame df_spark that contain null values. Firstly, it ensures the integrity and quality of our dataset by eliminating potential sources of bias or error in our analysis, as null values can skew statistical results. Secondly, it simplifies subsequent data analysis processes by obviating the need for ongoing null checks and handling, allowing us to focus on the analysis itself. "
   ]
  },
  {
   "cell_type": "code",
   "execution_count": 0,
   "metadata": {
    "application/vnd.databricks.v1+cell": {
     "cellMetadata": {
      "byteLimit": 2048000,
      "rowLimit": 10000
     },
     "inputWidgets": {},
     "nuid": "21e52531-63d3-489b-83a6-372dce6ee6c1",
     "showTitle": false,
     "title": ""
    }
   },
   "outputs": [],
   "source": [
    "# Drop rows with any null value\n",
    "df_spark = df_spark.dropna()"
   ]
  },
  {
   "cell_type": "code",
   "execution_count": 0,
   "metadata": {
    "application/vnd.databricks.v1+cell": {
     "cellMetadata": {
      "byteLimit": 2048000,
      "rowLimit": 10000
     },
     "inputWidgets": {},
     "nuid": "39cff78b-61c3-4ab1-869e-3b3df7e599e5",
     "showTitle": false,
     "title": ""
    }
   },
   "outputs": [
    {
     "output_type": "stream",
     "name": "stdout",
     "output_type": "stream",
     "text": [
      "Number of Rows: 9658\nNumber of Columns: 13\n"
     ]
    }
   ],
   "source": [
    "#Checking the size after dropping null values\n",
    "#Count the number of rows\n",
    "num_rows = df_spark.count()\n",
    "# Get the number of columns\n",
    "num_columns = len(df_spark.columns)\n",
    "print(\"Number of Rows:\", num_rows)\n",
    "print(\"Number of Columns:\", num_columns)"
   ]
  },
  {
   "cell_type": "markdown",
   "metadata": {
    "application/vnd.databricks.v1+cell": {
     "cellMetadata": {},
     "inputWidgets": {},
     "nuid": "c3dc2105-8f98-4e45-9fdf-bbd436d5ec32",
     "showTitle": false,
     "title": ""
    }
   },
   "source": [
    "Now, First, we converted the 'reviews' column to the 'int64' data type. Next, we cleaned the 'price' column by removing the '$' sign and converting it to float. Then, we sanitized the 'installs' column by removing special characters like '+', and converted it to integer type. After that, we replaced 'NaN' strings in the 'rating' column with actual null values and calculated the average rating. Finally, we replaced the 'NaN' values with the calculated average rating, converted them to float, and rounded them to one decimal place."
   ]
  },
  {
   "cell_type": "code",
   "execution_count": 0,
   "metadata": {
    "application/vnd.databricks.v1+cell": {
     "cellMetadata": {
      "byteLimit": 2048000,
      "rowLimit": 10000
     },
     "inputWidgets": {},
     "nuid": "e369573c-3843-4509-a58f-4dccb9569763",
     "showTitle": true,
     "title": "Data Type Conversion for Numeric Columns"
    }
   },
   "outputs": [],
   "source": [
    "# Convert 'reviews' column to 'int64' data type\n",
    "df_spark = df_spark.withColumn('reviews', df_spark['reviews'].cast(IntegerType()))\n",
    "\n",
    "# Remove '$' from the 'price' column as price is in Dollars and then convert to Float\n",
    "df_spark = df_spark.withColumn('price', regexp_replace(df_spark['price'], '\\$', ''))\n",
    "df_spark = df_spark.withColumn('price', df_spark['price'].cast('float'))\n",
    "\n",
    "# Remove special characters from the 'installs' columns as it has '+' in values and then convert to integer\n",
    "df_spark = df_spark.withColumn('installs', regexp_replace(df_spark['installs'], '[+,]', ''))\n",
    "df_spark = df_spark.withColumn('installs', df_spark['installs'].cast('integer'))\n",
    "\n",
    "# Replace 'NaN' strings with actual null values and calculate average rating\n",
    "average_rating = df_spark.filter(col('rating') != 'NaN').select(avg(col('rating'))).collect()[0][0]\n",
    "# Replace 'NaN' values with the average rating, convert to float, and round to one decimal place\n",
    "df_spark = df_spark.withColumn('rating', round(when(col('rating') != 'NaN', col('rating').cast('float')).otherwise(average_rating), 1))"
   ]
  },
  {
   "cell_type": "markdown",
   "metadata": {
    "application/vnd.databricks.v1+cell": {
     "cellMetadata": {},
     "inputWidgets": {},
     "nuid": "f048d196-72c5-450d-b098-0623224eb7c2",
     "showTitle": false,
     "title": ""
    }
   },
   "source": [
    "Now, We're filtering a DataFrame in Spark using PySpark to retain rows where the 'size' column ends with either 'k', 'M', or 'Varies with device'. By applying a regular expression pattern, we exclude rows with other endings. The resulting DataFrame, df_spark_filtered, showcases the outcome of this filtering process."
   ]
  },
  {
   "cell_type": "code",
   "execution_count": 0,
   "metadata": {
    "application/vnd.databricks.v1+cell": {
     "cellMetadata": {
      "byteLimit": 2048000,
      "rowLimit": 10000
     },
     "inputWidgets": {},
     "nuid": "bd35041b-51e8-4ec8-b080-7f8a570323f0",
     "showTitle": false,
     "title": ""
    }
   },
   "outputs": [
    {
     "output_type": "stream",
     "name": "stdout",
     "output_type": "stream",
     "text": [
      "+--------------------+-------------+------+-------+-------------------+--------+------+-----+--------------+------+------------+-----------+-----------------+\n|                 app|     category|rating|reviews|               size|installs|  type|price|content_rating|genres|last_updated|current_ver|      android_ver|\n+--------------------+-------------+------+-------+-------------------+--------+------+-----+--------------+------+------------+-----------+-----------------+\n|\"Women\"\"s Health ...|         Face|  null|   null| HEALTH_AND_FITNESS|       4|  2509| null|    1,000,000+|  Free|           0| Mature 17+| Health & Fitness|\n|\"Yanosik: \"\"antyr...| traffic jams|  null|   null|MAPS_AND_NAVIGATION|       4|102248| null|    5,000,000+|  Free|           0|   Everyone|Maps & Navigation|\n+--------------------+-------------+------+-------+-------------------+--------+------+-----+--------------+------+------------+-----------+-----------------+\n\n"
     ]
    }
   ],
   "source": [
    "#The sizes are either in KB (k), MB(M) or Varies with device\n",
    "# Filter rows where 'size' column does not contain 'k', 'M', or 'Varies with device' at the end\n",
    "df_spark_filtered = df_spark.filter(~col('size').rlike('[k,M,Varies with device]$'))\n",
    "# Display the first few rows\n",
    "df_spark_filtered.show()"
   ]
  },
  {
   "cell_type": "markdown",
   "metadata": {
    "application/vnd.databricks.v1+cell": {
     "cellMetadata": {},
     "inputWidgets": {},
     "nuid": "3ffa6c68-2f6c-40cd-9fd0-6cc626cf1b39",
     "showTitle": false,
     "title": ""
    }
   },
   "source": [
    "We're removing problematic rows from the DataFrame df_spark by excluding all rows that exist in the df_spark_filtered DataFrame. This ensures that any rows not meeting our filtering criteria are deleted from the original DataFrame. Finally, we're counting the number of rows remaining in df_spark after the deletion process."
   ]
  },
  {
   "cell_type": "code",
   "execution_count": 0,
   "metadata": {
    "application/vnd.databricks.v1+cell": {
     "cellMetadata": {
      "byteLimit": 2048000,
      "rowLimit": 10000
     },
     "inputWidgets": {},
     "nuid": "4ba947cc-b5fe-4ca2-89e4-9ef2c83b8bfa",
     "showTitle": false,
     "title": ""
    }
   },
   "outputs": [
    {
     "output_type": "stream",
     "name": "stdout",
     "output_type": "stream",
     "text": [
      "Out[17]: 9656"
     ]
    }
   ],
   "source": [
    "# Delete problematic rows from df_spark\n",
    "df_spark = df_spark.exceptAll(df_spark_filtered)\n",
    "df_spark.count()"
   ]
  },
  {
   "cell_type": "markdown",
   "metadata": {
    "application/vnd.databricks.v1+cell": {
     "cellMetadata": {},
     "inputWidgets": {},
     "nuid": "36536cd6-1c47-447d-8007-1efd3612e01a",
     "showTitle": false,
     "title": ""
    }
   },
   "source": [
    "Now, We're focusing on the 'size' column within the df_spark DataFrame. Our goal is to standardize the representation of sizes by converting values from kilobytes (KB) to megabytes (MB) where applicable. To achieve this, we employ a conditional logic using PySpark's when function. If the 'size' contains 'k', we extract the numeric value using a regular expression, convert it to a double, and then divide by 1000 to convert KB to MB. Similarly, if the 'size' contains 'M', we simply extract the numeric value and cast it to double, as it's already in MB. For any other cases where the 'size' doesn't contain 'k' or 'M', it remains unchanged. This meticulous transformation ensures consistency in the representation of sizes throughout the DataFrame, facilitating clearer analysis and interpretation of the data."
   ]
  },
  {
   "cell_type": "code",
   "execution_count": 0,
   "metadata": {
    "application/vnd.databricks.v1+cell": {
     "cellMetadata": {
      "byteLimit": 2048000,
      "rowLimit": 10000
     },
     "inputWidgets": {},
     "nuid": "ee717a2f-40e8-4418-965d-91a8be758174",
     "showTitle": false,
     "title": ""
    }
   },
   "outputs": [],
   "source": [
    "# Convert 'size' values from KB to megabytes (MB)\n",
    "df_spark = df_spark.withColumn('size', \n",
    "                                when(col('size').contains('k'), \n",
    "                                     regexp_extract(col('size'), r'(\\d+)', 1).cast('double') / 1000)\n",
    "                                .when(col('size').contains('M'), \n",
    "                                     regexp_extract(col('size'), r'(\\d+)', 1).cast('double'))\n",
    "                                .otherwise(col('size')))\n"
   ]
  },
  {
   "cell_type": "code",
   "execution_count": 0,
   "metadata": {
    "application/vnd.databricks.v1+cell": {
     "cellMetadata": {
      "byteLimit": 2048000,
      "rowLimit": 10000
     },
     "inputWidgets": {},
     "nuid": "2e1853c4-ad72-4206-aaae-316e9f16315e",
     "showTitle": false,
     "title": ""
    }
   },
   "outputs": [
    {
     "output_type": "stream",
     "name": "stdout",
     "output_type": "stream",
     "text": [
      "Out[19]: 9656"
     ]
    }
   ],
   "source": [
    "#Apps sizes have 'M' which stands for MB (Megabytes)\n",
    "# Filter rows where 'size' column does not contain 'M'\n",
    "df_spark = df_spark.filter(~col('size').like('%M%'))\n",
    "# Display the first few rows\n",
    "df_spark.count()"
   ]
  },
  {
   "cell_type": "markdown",
   "metadata": {
    "application/vnd.databricks.v1+cell": {
     "cellMetadata": {},
     "inputWidgets": {},
     "nuid": "efd2c550-3748-4a3a-88ca-12ac294b84ce",
     "showTitle": false,
     "title": ""
    }
   },
   "source": [
    "We're renaming the 'size' column in the DataFrame df_spark to 'size(MB)' to provide a clearer indication of the units used. This change helps enhance the readability and understanding of the data."
   ]
  },
  {
   "cell_type": "code",
   "execution_count": 0,
   "metadata": {
    "application/vnd.databricks.v1+cell": {
     "cellMetadata": {
      "byteLimit": 2048000,
      "rowLimit": 10000
     },
     "inputWidgets": {},
     "nuid": "2ed33295-6020-4e5d-b1f9-be9b04af10d3",
     "showTitle": false,
     "title": ""
    }
   },
   "outputs": [
    {
     "output_type": "display_data",
     "data": {
      "text/html": [
       "<div>\n",
       "<style scoped>\n",
       "    .dataframe tbody tr th:only-of-type {\n",
       "        vertical-align: middle;\n",
       "    }\n",
       "\n",
       "    .dataframe tbody tr th {\n",
       "        vertical-align: top;\n",
       "    }\n",
       "\n",
       "    .dataframe thead th {\n",
       "        text-align: right;\n",
       "    }\n",
       "</style>\n",
       "<table border=\"1\" class=\"dataframe\">\n",
       "  <thead>\n",
       "    <tr style=\"text-align: right;\">\n",
       "      <th></th>\n",
       "      <th>app</th>\n",
       "      <th>category</th>\n",
       "      <th>rating</th>\n",
       "      <th>reviews</th>\n",
       "      <th>size_MB</th>\n",
       "      <th>installs</th>\n",
       "      <th>type</th>\n",
       "      <th>price</th>\n",
       "      <th>content_rating</th>\n",
       "      <th>genres</th>\n",
       "      <th>last_updated</th>\n",
       "      <th>current_ver</th>\n",
       "      <th>android_ver</th>\n",
       "    </tr>\n",
       "  </thead>\n",
       "  <tbody>\n",
       "    <tr>\n",
       "      <th>0</th>\n",
       "      <td>AJ렌터카 법인 카셰어링</td>\n",
       "      <td>MAPS_AND_NAVIGATION</td>\n",
       "      <td>4.2</td>\n",
       "      <td>0</td>\n",
       "      <td>27.0</td>\n",
       "      <td>10</td>\n",
       "      <td>Free</td>\n",
       "      <td>0.00</td>\n",
       "      <td>Everyone</td>\n",
       "      <td>Maps &amp; Navigation</td>\n",
       "      <td>July 30, 2018</td>\n",
       "      <td>1.0.0.0</td>\n",
       "      <td>4.3 and up</td>\n",
       "    </tr>\n",
       "    <tr>\n",
       "      <th>1</th>\n",
       "      <td>American Sniper City Fight Shooting Assassin</td>\n",
       "      <td>GAME</td>\n",
       "      <td>4.1</td>\n",
       "      <td>395</td>\n",
       "      <td>54.0</td>\n",
       "      <td>50000</td>\n",
       "      <td>Free</td>\n",
       "      <td>0.00</td>\n",
       "      <td>Teen</td>\n",
       "      <td>Action</td>\n",
       "      <td>November 24, 2017</td>\n",
       "      <td>1.4</td>\n",
       "      <td>2.3 and up</td>\n",
       "    </tr>\n",
       "    <tr>\n",
       "      <th>2</th>\n",
       "      <td>Arabic Alphabets</td>\n",
       "      <td>PARENTING</td>\n",
       "      <td>4.2</td>\n",
       "      <td>34</td>\n",
       "      <td>6.0</td>\n",
       "      <td>10000</td>\n",
       "      <td>Free</td>\n",
       "      <td>0.00</td>\n",
       "      <td>Everyone</td>\n",
       "      <td>Parenting</td>\n",
       "      <td>January 9, 2017</td>\n",
       "      <td>1.0</td>\n",
       "      <td>2.2 and up</td>\n",
       "    </tr>\n",
       "    <tr>\n",
       "      <th>3</th>\n",
       "      <td>BET NOW - Watch Shows</td>\n",
       "      <td>ENTERTAINMENT</td>\n",
       "      <td>4.2</td>\n",
       "      <td>14807</td>\n",
       "      <td>19.0</td>\n",
       "      <td>1000000</td>\n",
       "      <td>Free</td>\n",
       "      <td>0.00</td>\n",
       "      <td>Teen</td>\n",
       "      <td>Entertainment</td>\n",
       "      <td>July 8, 2018</td>\n",
       "      <td>11.45.0</td>\n",
       "      <td>4.4 and up</td>\n",
       "    </tr>\n",
       "    <tr>\n",
       "      <th>4</th>\n",
       "      <td>BG Cable TV</td>\n",
       "      <td>FAMILY</td>\n",
       "      <td>4.2</td>\n",
       "      <td>5</td>\n",
       "      <td>2.0</td>\n",
       "      <td>1000</td>\n",
       "      <td>Free</td>\n",
       "      <td>0.00</td>\n",
       "      <td>Everyone</td>\n",
       "      <td>Entertainment</td>\n",
       "      <td>February 25, 2018</td>\n",
       "      <td>1.0</td>\n",
       "      <td>4.1 and up</td>\n",
       "    </tr>\n",
       "    <tr>\n",
       "      <th>5</th>\n",
       "      <td>BG Television</td>\n",
       "      <td>FAMILY</td>\n",
       "      <td>4.2</td>\n",
       "      <td>3</td>\n",
       "      <td>2.0</td>\n",
       "      <td>500</td>\n",
       "      <td>Free</td>\n",
       "      <td>0.00</td>\n",
       "      <td>Everyone</td>\n",
       "      <td>Entertainment</td>\n",
       "      <td>December 10, 2017</td>\n",
       "      <td>1.0</td>\n",
       "      <td>4.1 and up</td>\n",
       "    </tr>\n",
       "    <tr>\n",
       "      <th>6</th>\n",
       "      <td>BTS J-Hope Wallpaper HD for KPOP Fans</td>\n",
       "      <td>PERSONALIZATION</td>\n",
       "      <td>4.2</td>\n",
       "      <td>4</td>\n",
       "      <td>3.0</td>\n",
       "      <td>500</td>\n",
       "      <td>Free</td>\n",
       "      <td>0.00</td>\n",
       "      <td>Everyone</td>\n",
       "      <td>Personalization</td>\n",
       "      <td>July 26, 2018</td>\n",
       "      <td>2.1.4</td>\n",
       "      <td>4.0 and up</td>\n",
       "    </tr>\n",
       "    <tr>\n",
       "      <th>7</th>\n",
       "      <td>Bokeh (Background defocus)</td>\n",
       "      <td>PHOTOGRAPHY</td>\n",
       "      <td>4.0</td>\n",
       "      <td>50109</td>\n",
       "      <td>Varies with device</td>\n",
       "      <td>10000000</td>\n",
       "      <td>Free</td>\n",
       "      <td>0.00</td>\n",
       "      <td>Everyone</td>\n",
       "      <td>Photography</td>\n",
       "      <td>June 7, 2018</td>\n",
       "      <td>Varies with device</td>\n",
       "      <td>Varies with device</td>\n",
       "    </tr>\n",
       "    <tr>\n",
       "      <th>8</th>\n",
       "      <td>Bomb and Nade Timer for CS:GO</td>\n",
       "      <td>PRODUCTIVITY</td>\n",
       "      <td>2.6</td>\n",
       "      <td>85</td>\n",
       "      <td>6.0</td>\n",
       "      <td>5000</td>\n",
       "      <td>Free</td>\n",
       "      <td>0.00</td>\n",
       "      <td>Everyone</td>\n",
       "      <td>Productivity</td>\n",
       "      <td>April 21, 2016</td>\n",
       "      <td>1.1.2</td>\n",
       "      <td>4.0 and up</td>\n",
       "    </tr>\n",
       "    <tr>\n",
       "      <th>9</th>\n",
       "      <td>CB Heroes</td>\n",
       "      <td>SOCIAL</td>\n",
       "      <td>5.0</td>\n",
       "      <td>5</td>\n",
       "      <td>1.0</td>\n",
       "      <td>5</td>\n",
       "      <td>Free</td>\n",
       "      <td>0.00</td>\n",
       "      <td>Everyone</td>\n",
       "      <td>Social</td>\n",
       "      <td>August 4, 2018</td>\n",
       "      <td>1.2.4</td>\n",
       "      <td>5.0 and up</td>\n",
       "    </tr>\n",
       "    <tr>\n",
       "      <th>10</th>\n",
       "      <td>CW Mobile</td>\n",
       "      <td>FAMILY</td>\n",
       "      <td>4.2</td>\n",
       "      <td>3</td>\n",
       "      <td>22.0</td>\n",
       "      <td>50</td>\n",
       "      <td>Free</td>\n",
       "      <td>0.00</td>\n",
       "      <td>Everyone</td>\n",
       "      <td>Education</td>\n",
       "      <td>June 25, 2018</td>\n",
       "      <td>3.3.99</td>\n",
       "      <td>4.2 and up</td>\n",
       "    </tr>\n",
       "    <tr>\n",
       "      <th>11</th>\n",
       "      <td>CZ-27 pistol explained</td>\n",
       "      <td>BOOKS_AND_REFERENCE</td>\n",
       "      <td>4.2</td>\n",
       "      <td>1</td>\n",
       "      <td>11.0</td>\n",
       "      <td>10</td>\n",
       "      <td>Paid</td>\n",
       "      <td>5.99</td>\n",
       "      <td>Everyone</td>\n",
       "      <td>Books &amp; Reference</td>\n",
       "      <td>September 2, 2015</td>\n",
       "      <td>Android 3.0 - 2015</td>\n",
       "      <td>1.6 and up</td>\n",
       "    </tr>\n",
       "    <tr>\n",
       "      <th>12</th>\n",
       "      <td>Cake Shop - Kids Cooking</td>\n",
       "      <td>FAMILY</td>\n",
       "      <td>4.3</td>\n",
       "      <td>30668</td>\n",
       "      <td>33.0</td>\n",
       "      <td>5000000</td>\n",
       "      <td>Free</td>\n",
       "      <td>0.00</td>\n",
       "      <td>Everyone</td>\n",
       "      <td>Casual;Pretend Play</td>\n",
       "      <td>July 16, 2018</td>\n",
       "      <td>2.1.3181</td>\n",
       "      <td>4.0.3 and up</td>\n",
       "    </tr>\n",
       "    <tr>\n",
       "      <th>13</th>\n",
       "      <td>Cathay Pacific</td>\n",
       "      <td>TRAVEL_AND_LOCAL</td>\n",
       "      <td>3.3</td>\n",
       "      <td>4069</td>\n",
       "      <td>50.0</td>\n",
       "      <td>1000000</td>\n",
       "      <td>Free</td>\n",
       "      <td>0.00</td>\n",
       "      <td>Everyone</td>\n",
       "      <td>Travel &amp; Local</td>\n",
       "      <td>July 25, 2018</td>\n",
       "      <td>6.6.1</td>\n",
       "      <td>4.3 and up</td>\n",
       "    </tr>\n",
       "    <tr>\n",
       "      <th>14</th>\n",
       "      <td>DJ Mix Effects Simulator</td>\n",
       "      <td>FAMILY</td>\n",
       "      <td>4.1</td>\n",
       "      <td>5997</td>\n",
       "      <td>20.0</td>\n",
       "      <td>1000000</td>\n",
       "      <td>Free</td>\n",
       "      <td>0.00</td>\n",
       "      <td>Everyone</td>\n",
       "      <td>Simulation</td>\n",
       "      <td>January 26, 2018</td>\n",
       "      <td>1.1</td>\n",
       "      <td>4.1 and up</td>\n",
       "    </tr>\n",
       "    <tr>\n",
       "      <th>15</th>\n",
       "      <td>DL Hughley</td>\n",
       "      <td>FAMILY</td>\n",
       "      <td>4.6</td>\n",
       "      <td>12</td>\n",
       "      <td>10.0</td>\n",
       "      <td>1000</td>\n",
       "      <td>Free</td>\n",
       "      <td>0.00</td>\n",
       "      <td>Mature 17+</td>\n",
       "      <td>Entertainment</td>\n",
       "      <td>March 23, 2018</td>\n",
       "      <td>2.0.4</td>\n",
       "      <td>4.1 and up</td>\n",
       "    </tr>\n",
       "    <tr>\n",
       "      <th>16</th>\n",
       "      <td>DT Manager</td>\n",
       "      <td>PRODUCTIVITY</td>\n",
       "      <td>4.0</td>\n",
       "      <td>9</td>\n",
       "      <td>3.0</td>\n",
       "      <td>500</td>\n",
       "      <td>Free</td>\n",
       "      <td>0.00</td>\n",
       "      <td>Everyone</td>\n",
       "      <td>Productivity</td>\n",
       "      <td>May 21, 2015</td>\n",
       "      <td>1.7</td>\n",
       "      <td>2.3 and up</td>\n",
       "    </tr>\n",
       "    <tr>\n",
       "      <th>17</th>\n",
       "      <td>Deaf World DW</td>\n",
       "      <td>COMMUNICATION</td>\n",
       "      <td>4.3</td>\n",
       "      <td>298</td>\n",
       "      <td>Varies with device</td>\n",
       "      <td>10000</td>\n",
       "      <td>Free</td>\n",
       "      <td>0.00</td>\n",
       "      <td>Teen</td>\n",
       "      <td>Communication</td>\n",
       "      <td>November 28, 2017</td>\n",
       "      <td>Varies with device</td>\n",
       "      <td>4.1 and up</td>\n",
       "    </tr>\n",
       "    <tr>\n",
       "      <th>18</th>\n",
       "      <td>Dr. 2048</td>\n",
       "      <td>FAMILY</td>\n",
       "      <td>3.9</td>\n",
       "      <td>1985</td>\n",
       "      <td>3.0</td>\n",
       "      <td>500000</td>\n",
       "      <td>Free</td>\n",
       "      <td>0.00</td>\n",
       "      <td>Everyone</td>\n",
       "      <td>Puzzle</td>\n",
       "      <td>December 30, 2017</td>\n",
       "      <td>1.05</td>\n",
       "      <td>4.1 and up</td>\n",
       "    </tr>\n",
       "    <tr>\n",
       "      <th>19</th>\n",
       "      <td>Dr. Dominoes</td>\n",
       "      <td>GAME</td>\n",
       "      <td>4.0</td>\n",
       "      <td>2700</td>\n",
       "      <td>5.0</td>\n",
       "      <td>500000</td>\n",
       "      <td>Free</td>\n",
       "      <td>0.00</td>\n",
       "      <td>Everyone</td>\n",
       "      <td>Board</td>\n",
       "      <td>January 3, 2018</td>\n",
       "      <td>1.06</td>\n",
       "      <td>4.1 and up</td>\n",
       "    </tr>\n",
       "  </tbody>\n",
       "</table>\n",
       "</div>"
      ]
     },
     "metadata": {
      "application/vnd.databricks.v1+output": {
       "addedWidgets": {},
       "arguments": {},
       "data": "<div>\n<style scoped>\n    .dataframe tbody tr th:only-of-type {\n        vertical-align: middle;\n    }\n\n    .dataframe tbody tr th {\n        vertical-align: top;\n    }\n\n    .dataframe thead th {\n        text-align: right;\n    }\n</style>\n<table border=\"1\" class=\"dataframe\">\n  <thead>\n    <tr style=\"text-align: right;\">\n      <th></th>\n      <th>app</th>\n      <th>category</th>\n      <th>rating</th>\n      <th>reviews</th>\n      <th>size_MB</th>\n      <th>installs</th>\n      <th>type</th>\n      <th>price</th>\n      <th>content_rating</th>\n      <th>genres</th>\n      <th>last_updated</th>\n      <th>current_ver</th>\n      <th>android_ver</th>\n    </tr>\n  </thead>\n  <tbody>\n    <tr>\n      <th>0</th>\n      <td>AJ렌터카 법인 카셰어링</td>\n      <td>MAPS_AND_NAVIGATION</td>\n      <td>4.2</td>\n      <td>0</td>\n      <td>27.0</td>\n      <td>10</td>\n      <td>Free</td>\n      <td>0.00</td>\n      <td>Everyone</td>\n      <td>Maps &amp; Navigation</td>\n      <td>July 30, 2018</td>\n      <td>1.0.0.0</td>\n      <td>4.3 and up</td>\n    </tr>\n    <tr>\n      <th>1</th>\n      <td>American Sniper City Fight Shooting Assassin</td>\n      <td>GAME</td>\n      <td>4.1</td>\n      <td>395</td>\n      <td>54.0</td>\n      <td>50000</td>\n      <td>Free</td>\n      <td>0.00</td>\n      <td>Teen</td>\n      <td>Action</td>\n      <td>November 24, 2017</td>\n      <td>1.4</td>\n      <td>2.3 and up</td>\n    </tr>\n    <tr>\n      <th>2</th>\n      <td>Arabic Alphabets</td>\n      <td>PARENTING</td>\n      <td>4.2</td>\n      <td>34</td>\n      <td>6.0</td>\n      <td>10000</td>\n      <td>Free</td>\n      <td>0.00</td>\n      <td>Everyone</td>\n      <td>Parenting</td>\n      <td>January 9, 2017</td>\n      <td>1.0</td>\n      <td>2.2 and up</td>\n    </tr>\n    <tr>\n      <th>3</th>\n      <td>BET NOW - Watch Shows</td>\n      <td>ENTERTAINMENT</td>\n      <td>4.2</td>\n      <td>14807</td>\n      <td>19.0</td>\n      <td>1000000</td>\n      <td>Free</td>\n      <td>0.00</td>\n      <td>Teen</td>\n      <td>Entertainment</td>\n      <td>July 8, 2018</td>\n      <td>11.45.0</td>\n      <td>4.4 and up</td>\n    </tr>\n    <tr>\n      <th>4</th>\n      <td>BG Cable TV</td>\n      <td>FAMILY</td>\n      <td>4.2</td>\n      <td>5</td>\n      <td>2.0</td>\n      <td>1000</td>\n      <td>Free</td>\n      <td>0.00</td>\n      <td>Everyone</td>\n      <td>Entertainment</td>\n      <td>February 25, 2018</td>\n      <td>1.0</td>\n      <td>4.1 and up</td>\n    </tr>\n    <tr>\n      <th>5</th>\n      <td>BG Television</td>\n      <td>FAMILY</td>\n      <td>4.2</td>\n      <td>3</td>\n      <td>2.0</td>\n      <td>500</td>\n      <td>Free</td>\n      <td>0.00</td>\n      <td>Everyone</td>\n      <td>Entertainment</td>\n      <td>December 10, 2017</td>\n      <td>1.0</td>\n      <td>4.1 and up</td>\n    </tr>\n    <tr>\n      <th>6</th>\n      <td>BTS J-Hope Wallpaper HD for KPOP Fans</td>\n      <td>PERSONALIZATION</td>\n      <td>4.2</td>\n      <td>4</td>\n      <td>3.0</td>\n      <td>500</td>\n      <td>Free</td>\n      <td>0.00</td>\n      <td>Everyone</td>\n      <td>Personalization</td>\n      <td>July 26, 2018</td>\n      <td>2.1.4</td>\n      <td>4.0 and up</td>\n    </tr>\n    <tr>\n      <th>7</th>\n      <td>Bokeh (Background defocus)</td>\n      <td>PHOTOGRAPHY</td>\n      <td>4.0</td>\n      <td>50109</td>\n      <td>Varies with device</td>\n      <td>10000000</td>\n      <td>Free</td>\n      <td>0.00</td>\n      <td>Everyone</td>\n      <td>Photography</td>\n      <td>June 7, 2018</td>\n      <td>Varies with device</td>\n      <td>Varies with device</td>\n    </tr>\n    <tr>\n      <th>8</th>\n      <td>Bomb and Nade Timer for CS:GO</td>\n      <td>PRODUCTIVITY</td>\n      <td>2.6</td>\n      <td>85</td>\n      <td>6.0</td>\n      <td>5000</td>\n      <td>Free</td>\n      <td>0.00</td>\n      <td>Everyone</td>\n      <td>Productivity</td>\n      <td>April 21, 2016</td>\n      <td>1.1.2</td>\n      <td>4.0 and up</td>\n    </tr>\n    <tr>\n      <th>9</th>\n      <td>CB Heroes</td>\n      <td>SOCIAL</td>\n      <td>5.0</td>\n      <td>5</td>\n      <td>1.0</td>\n      <td>5</td>\n      <td>Free</td>\n      <td>0.00</td>\n      <td>Everyone</td>\n      <td>Social</td>\n      <td>August 4, 2018</td>\n      <td>1.2.4</td>\n      <td>5.0 and up</td>\n    </tr>\n    <tr>\n      <th>10</th>\n      <td>CW Mobile</td>\n      <td>FAMILY</td>\n      <td>4.2</td>\n      <td>3</td>\n      <td>22.0</td>\n      <td>50</td>\n      <td>Free</td>\n      <td>0.00</td>\n      <td>Everyone</td>\n      <td>Education</td>\n      <td>June 25, 2018</td>\n      <td>3.3.99</td>\n      <td>4.2 and up</td>\n    </tr>\n    <tr>\n      <th>11</th>\n      <td>CZ-27 pistol explained</td>\n      <td>BOOKS_AND_REFERENCE</td>\n      <td>4.2</td>\n      <td>1</td>\n      <td>11.0</td>\n      <td>10</td>\n      <td>Paid</td>\n      <td>5.99</td>\n      <td>Everyone</td>\n      <td>Books &amp; Reference</td>\n      <td>September 2, 2015</td>\n      <td>Android 3.0 - 2015</td>\n      <td>1.6 and up</td>\n    </tr>\n    <tr>\n      <th>12</th>\n      <td>Cake Shop - Kids Cooking</td>\n      <td>FAMILY</td>\n      <td>4.3</td>\n      <td>30668</td>\n      <td>33.0</td>\n      <td>5000000</td>\n      <td>Free</td>\n      <td>0.00</td>\n      <td>Everyone</td>\n      <td>Casual;Pretend Play</td>\n      <td>July 16, 2018</td>\n      <td>2.1.3181</td>\n      <td>4.0.3 and up</td>\n    </tr>\n    <tr>\n      <th>13</th>\n      <td>Cathay Pacific</td>\n      <td>TRAVEL_AND_LOCAL</td>\n      <td>3.3</td>\n      <td>4069</td>\n      <td>50.0</td>\n      <td>1000000</td>\n      <td>Free</td>\n      <td>0.00</td>\n      <td>Everyone</td>\n      <td>Travel &amp; Local</td>\n      <td>July 25, 2018</td>\n      <td>6.6.1</td>\n      <td>4.3 and up</td>\n    </tr>\n    <tr>\n      <th>14</th>\n      <td>DJ Mix Effects Simulator</td>\n      <td>FAMILY</td>\n      <td>4.1</td>\n      <td>5997</td>\n      <td>20.0</td>\n      <td>1000000</td>\n      <td>Free</td>\n      <td>0.00</td>\n      <td>Everyone</td>\n      <td>Simulation</td>\n      <td>January 26, 2018</td>\n      <td>1.1</td>\n      <td>4.1 and up</td>\n    </tr>\n    <tr>\n      <th>15</th>\n      <td>DL Hughley</td>\n      <td>FAMILY</td>\n      <td>4.6</td>\n      <td>12</td>\n      <td>10.0</td>\n      <td>1000</td>\n      <td>Free</td>\n      <td>0.00</td>\n      <td>Mature 17+</td>\n      <td>Entertainment</td>\n      <td>March 23, 2018</td>\n      <td>2.0.4</td>\n      <td>4.1 and up</td>\n    </tr>\n    <tr>\n      <th>16</th>\n      <td>DT Manager</td>\n      <td>PRODUCTIVITY</td>\n      <td>4.0</td>\n      <td>9</td>\n      <td>3.0</td>\n      <td>500</td>\n      <td>Free</td>\n      <td>0.00</td>\n      <td>Everyone</td>\n      <td>Productivity</td>\n      <td>May 21, 2015</td>\n      <td>1.7</td>\n      <td>2.3 and up</td>\n    </tr>\n    <tr>\n      <th>17</th>\n      <td>Deaf World DW</td>\n      <td>COMMUNICATION</td>\n      <td>4.3</td>\n      <td>298</td>\n      <td>Varies with device</td>\n      <td>10000</td>\n      <td>Free</td>\n      <td>0.00</td>\n      <td>Teen</td>\n      <td>Communication</td>\n      <td>November 28, 2017</td>\n      <td>Varies with device</td>\n      <td>4.1 and up</td>\n    </tr>\n    <tr>\n      <th>18</th>\n      <td>Dr. 2048</td>\n      <td>FAMILY</td>\n      <td>3.9</td>\n      <td>1985</td>\n      <td>3.0</td>\n      <td>500000</td>\n      <td>Free</td>\n      <td>0.00</td>\n      <td>Everyone</td>\n      <td>Puzzle</td>\n      <td>December 30, 2017</td>\n      <td>1.05</td>\n      <td>4.1 and up</td>\n    </tr>\n    <tr>\n      <th>19</th>\n      <td>Dr. Dominoes</td>\n      <td>GAME</td>\n      <td>4.0</td>\n      <td>2700</td>\n      <td>5.0</td>\n      <td>500000</td>\n      <td>Free</td>\n      <td>0.00</td>\n      <td>Everyone</td>\n      <td>Board</td>\n      <td>January 3, 2018</td>\n      <td>1.06</td>\n      <td>4.1 and up</td>\n    </tr>\n  </tbody>\n</table>\n</div>",
       "datasetInfos": [],
       "metadata": {},
       "removedWidgets": [],
       "textData": null,
       "type": "htmlSandbox"
      }
     },
     "output_type": "display_data"
    }
   ],
   "source": [
    "# Rename the 'size' column to 'size(MB)'\n",
    "df_spark = df_spark.withColumnRenamed('size', 'size_MB')\n",
    "df_spark.toPandas().head(20)"
   ]
  },
  {
   "cell_type": "code",
   "execution_count": 0,
   "metadata": {
    "application/vnd.databricks.v1+cell": {
     "cellMetadata": {
      "byteLimit": 2048000,
      "rowLimit": 10000
     },
     "inputWidgets": {},
     "nuid": "b7f21db7-758e-426c-9673-be8cb50f0389",
     "showTitle": false,
     "title": ""
    }
   },
   "outputs": [
    {
     "output_type": "stream",
     "name": "stdout",
     "output_type": "stream",
     "text": [
      "root\n |-- app: string (nullable = true)\n |-- category: string (nullable = true)\n |-- rating: double (nullable = true)\n |-- reviews: integer (nullable = true)\n |-- size_MB: string (nullable = true)\n |-- installs: integer (nullable = true)\n |-- type: string (nullable = true)\n |-- price: float (nullable = true)\n |-- content_rating: string (nullable = true)\n |-- genres: string (nullable = true)\n |-- last_updated: string (nullable = true)\n |-- current_ver: string (nullable = true)\n |-- android_ver: string (nullable = true)\n\n"
     ]
    }
   ],
   "source": [
    "df_spark.printSchema()"
   ]
  },
  {
   "cell_type": "markdown",
   "metadata": {
    "application/vnd.databricks.v1+cell": {
     "cellMetadata": {},
     "inputWidgets": {},
     "nuid": "60ca8887-e4da-4424-bc62-015e842574f1",
     "showTitle": false,
     "title": ""
    }
   },
   "source": [
    "Now, the datatype of the columns have been changed thoroughly. \n",
    "Above displays the schema of the DataFrame `df_spark`, here's the breakdown:\n",
    "\n",
    "- The 'app' column is of type string, representing the name of the application.\n",
    "- 'category' is also a string column, indicating the category to which the application belongs.\n",
    "- 'rating' is a double column, storing the rating of the application.\n",
    "- 'reviews' is an integer column, holding the number of reviews received by the application.\n",
    "- 'size_MB' is a string column, denoting the size of the application in megabytes (MB).\n",
    "- 'installs' is an integer column, representing the number of installations of the application.\n",
    "- 'type' is a string column, indicating whether the application is free or paid.\n",
    "- 'price' is a float column, indicating the price of the application.\n",
    "- 'content_rating' is a string column, specifying the content rating of the application.\n",
    "- 'genres' is a string column, listing the genres associated with the application.\n",
    "- 'last_updated' is a string column, representing the date when the application was last updated.\n",
    "- 'current_ver' is a string column, indicating the current version of the application.\n",
    "- 'android_ver' is a string column, specifying the required Android version for the application."
   ]
  },
  {
   "cell_type": "markdown",
   "metadata": {
    "application/vnd.databricks.v1+cell": {
     "cellMetadata": {},
     "inputWidgets": {},
     "nuid": "81362d8c-3c19-4e55-ac7a-26d702bd828d",
     "showTitle": false,
     "title": ""
    }
   },
   "source": [
    "## Step 6 : Data Visualization"
   ]
  },
  {
   "cell_type": "markdown",
   "metadata": {
    "application/vnd.databricks.v1+cell": {
     "cellMetadata": {},
     "inputWidgets": {},
     "nuid": "9d48a050-b0b0-40bc-a89b-11acd1aaaef6",
     "showTitle": false,
     "title": ""
    }
   },
   "source": [
    "### Distribution of apps across different categories."
   ]
  },
  {
   "cell_type": "markdown",
   "metadata": {
    "application/vnd.databricks.v1+cell": {
     "cellMetadata": {},
     "inputWidgets": {},
     "nuid": "1ea26676-06d7-4338-8c51-46881df24462",
     "showTitle": false,
     "title": ""
    }
   },
   "source": [
    "\n",
    "1. **Grouping by Category**: First up, we use Spark to group all the apps by their category and count how many apps fall into each category.\n",
    "2. **Data Extraction**: Next, we pull out the category names and their counts from the grouped data and stash them in lists for easy access.\n",
    "3. **Plotting Time**: We then throw these numbers onto a bar chart using Matplotlib. We set up the chart with a nice big size, paint the bars blue, slap on labels for the categories and counts, and title it 'Counts of Apps by Category'. We also rotate the category labels on the x-axis so they don’t get crammed together.\n"
   ]
  },
  {
   "cell_type": "code",
   "execution_count": 0,
   "metadata": {
    "application/vnd.databricks.v1+cell": {
     "cellMetadata": {
      "byteLimit": 2048000,
      "rowLimit": 10000
     },
     "inputWidgets": {},
     "nuid": "b9744e72-01ed-4206-97d2-9521bd6f3261",
     "showTitle": true,
     "title": "Data Visualization and Correlation "
    }
   },
   "outputs": [
    {
     "output_type": "display_data",
     "data": {
      "image/png": "[encoded data removed]"
     },
     "metadata": {
      "application/vnd.databricks.v1+output": {
       "addedWidgets": {},
       "arguments": {},
       "data": "data:image/png;base64,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",
       "datasetInfos": [],
       "metadata": {},
       "removedWidgets": [],
       "type": "image"
      }
     },
     "output_type": "display_data"
    }
   ],
   "source": [
    "# Collect the counts for each category\n",
    "category_counts = df_spark.groupBy('category').count().collect()\n",
    "\n",
    "# Extract categories and counts from collected data\n",
    "categories = [row['category'] for row in category_counts]\n",
    "counts = [row['count'] for row in category_counts]\n",
    "\n",
    "# Plotting\n",
    "plt.figure(figsize=(10, 6))\n",
    "plt.bar(categories, counts, color='blue')\n",
    "plt.xlabel('Category')\n",
    "plt.ylabel('Count')\n",
    "plt.title('Counts of Apps by Category')\n",
    "plt.xticks(rotation=90)\n",
    "plt.show()"
   ]
  },
  {
   "cell_type": "markdown",
   "metadata": {
    "application/vnd.databricks.v1+cell": {
     "cellMetadata": {},
     "inputWidgets": {},
     "nuid": "162a3c83-9b75-41fc-ba02-def6d0fc1007",
     "showTitle": false,
     "title": ""
    }
   },
   "source": [
    "This bar chart displays the number of apps within each category on the Google Play Store. It shows a significant variation in count among categories, with some categories like 'Family' and 'Game' having a notably higher count of apps compared to others. Categories are listed along the x-axis, and the y-axis represents the count of apps. The chart reveals the relative popularity or saturation of categories in the Play Store based on the number of apps they contain."
   ]
  },
  {
   "cell_type": "markdown",
   "metadata": {
    "application/vnd.databricks.v1+cell": {
     "cellMetadata": {},
     "inputWidgets": {},
     "nuid": "6be829da-8c2a-4c27-a447-b01a95228b69",
     "showTitle": false,
     "title": ""
    }
   },
   "source": [
    "### Correlation : Identify potential patterns or dependencies in the data."
   ]
  },
  {
   "cell_type": "markdown",
   "metadata": {
    "application/vnd.databricks.v1+cell": {
     "cellMetadata": {},
     "inputWidgets": {},
     "nuid": "9f702c37-1eb9-42c2-80ef-d16cc90cd64d",
     "showTitle": false,
     "title": ""
    }
   },
   "source": [
    "Now, We commence by converting a PySpark DataFrame into a Pandas DataFrame to leverage the robust analytical capabilities of Pandas. Subsequently, we utilize Seaborn to construct a heatmap that elucidates the correlations among the numerical columns within our dataset. The heatmap is rendered with annotations to indicate the correlation coefficients, precise to two decimals, and features distinct lines between cells for enhanced readability. This visualization serves as an instrumental tool for discerning the relationships and patterns between the different numerical variables.\n"
   ]
  },
  {
   "cell_type": "code",
   "execution_count": 0,
   "metadata": {
    "application/vnd.databricks.v1+cell": {
     "cellMetadata": {
      "byteLimit": 2048000,
      "rowLimit": 10000
     },
     "inputWidgets": {},
     "nuid": "84cbdcee-6107-4db1-ad23-1eea37db3d49",
     "showTitle": false,
     "title": ""
    }
   },
   "outputs": [
    {
     "output_type": "display_data",
     "data": {
      "image/png": "[encoded data removed]"
     },
     "metadata": {
      "application/vnd.databricks.v1+output": {
       "addedWidgets": {},
       "arguments": {},
       "data": "data:image/png;base64,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",
       "datasetInfos": [],
       "metadata": {},
       "removedWidgets": [],
       "type": "image"
      }
     },
     "output_type": "display_data"
    }
   ],
   "source": [
    "# Convert PySpark DataFrame to Pandas DataFrame\n",
    "df_pandas = df_spark.toPandas()\n",
    "\n",
    "# Plot heatmap for numerical columns\n",
    "plt.figure(figsize=(12, 8))\n",
    "sns.heatmap(df_pandas.corr(), annot=True, linewidths=0.5, fmt=\".2f\")\n",
    "plt.title(\"Heatmap for numerical columns\", size=20)\n",
    "plt.show()"
   ]
  },
  {
   "cell_type": "markdown",
   "metadata": {
    "application/vnd.databricks.v1+cell": {
     "cellMetadata": {},
     "inputWidgets": {},
     "nuid": "ce36cfcc-d7eb-47b8-a40d-a34b97558d4d",
     "showTitle": false,
     "title": ""
    }
   },
   "source": [
    "The heatmap provides a visual representation of the correlation matrix for numerical columns, such as rating, reviews, installs, and price, in a dataset. Notably, there is a moderately positive correlation (0.63) between the number of reviews and installs, suggesting that apps with more installations tend to have more reviews. The other variables show low to negligible correlations with each other, as indicated by the dark shades on the heatmap. The color bar on the right acts as a legend, ranging from -1 to 1, which corresponds to a perfect negative correlation to a perfect positive correlation."
   ]
  },
  {
   "cell_type": "markdown",
   "metadata": {
    "application/vnd.databricks.v1+cell": {
     "cellMetadata": {},
     "inputWidgets": {},
     "nuid": "52005d81-315d-4d9f-b113-62399ea9837b",
     "showTitle": false,
     "title": ""
    }
   },
   "source": [
    "## Step 7: Store the data in a persistent table"
   ]
  },
  {
   "cell_type": "markdown",
   "metadata": {
    "application/vnd.databricks.v1+cell": {
     "cellMetadata": {},
     "inputWidgets": {},
     "nuid": "0353a78e-223e-4e75-a56c-77f89317d61c",
     "showTitle": false,
     "title": ""
    }
   },
   "source": [
    "Now, We are executing data persistence operations on our Spark DataFrame df_spark which contains cleaned data pertaining to Google Play Store applications"
   ]
  },
  {
   "cell_type": "code",
   "execution_count": 0,
   "metadata": {
    "application/vnd.databricks.v1+cell": {
     "cellMetadata": {
      "byteLimit": 2048000,
      "rowLimit": 10000
     },
     "inputWidgets": {},
     "nuid": "8d6eae3f-b5de-42d5-861a-8c474744825c",
     "showTitle": true,
     "title": "Saving the cleaned data into a table "
    }
   },
   "outputs": [],
   "source": [
    "df_spark.write.saveAsTable(\"Google_Cleaned_Data\" , mode='overwrite')"
   ]
  },
  {
   "cell_type": "markdown",
   "metadata": {
    "application/vnd.databricks.v1+cell": {
     "cellMetadata": {},
     "inputWidgets": {},
     "nuid": "2eb59e67-56c4-468e-81d5-dc3c7e36c4a4",
     "showTitle": false,
     "title": ""
    }
   },
   "source": [
    "1. **Saving Data**: The `df_spark.write.saveAsTable(\"Google_Cleaned_Data\", mode='overwrite')` command is saving our DataFrame into a table named \"Google_Cleaned_Data\" within Spark SQL. By setting the mode to 'overwrite', we ensure that if a table with the same name already exists, it will be replaced with the current DataFrame's contents. This is beneficial for ensuring that the most recent version of our cleaned data is readily accessible for future queries and operations without the need to repeat the cleaning process."
   ]
  },
  {
   "cell_type": "code",
   "execution_count": 0,
   "metadata": {
    "application/vnd.databricks.v1+cell": {
     "cellMetadata": {
      "byteLimit": 2048000,
      "rowLimit": 10000
     },
     "inputWidgets": {},
     "nuid": "4d08a60e-dff7-4f8f-a1a1-2fb823464ed4",
     "showTitle": true,
     "title": "Storing the data in a persistent table "
    }
   },
   "outputs": [
    {
     "output_type": "stream",
     "name": "stdout",
     "output_type": "stream",
     "text": [
      "Out[25]: False"
     ]
    }
   ],
   "source": [
    "df_spark.is_cached"
   ]
  },
  {
   "cell_type": "markdown",
   "metadata": {
    "application/vnd.databricks.v1+cell": {
     "cellMetadata": {},
     "inputWidgets": {},
     "nuid": "8c814ee8-6f04-423d-83e4-f0b4e0e71730",
     "showTitle": false,
     "title": ""
    }
   },
   "source": [
    "\n",
    "2. **Cache Check**: The `df_spark.is_cached` query returns a boolean indicating whether our DataFrame is currently stored in cache. This is a check to understand if our DataFrame is already persisting in memory, which can speed up subsequent operations performed on the data."
   ]
  },
  {
   "cell_type": "code",
   "execution_count": 0,
   "metadata": {
    "application/vnd.databricks.v1+cell": {
     "cellMetadata": {
      "byteLimit": 2048000,
      "rowLimit": 10000
     },
     "inputWidgets": {},
     "nuid": "496cc90b-0e3c-4feb-8f36-8e614df22539",
     "showTitle": false,
     "title": ""
    }
   },
   "outputs": [
    {
     "output_type": "stream",
     "name": "stdout",
     "output_type": "stream",
     "text": [
      "Out[26]: DataFrame[app: string, category: string, rating: double, reviews: int, size_MB: string, installs: int, type: string, price: float, content_rating: string, genres: string, last_updated: string, current_ver: string, android_ver: string]"
     ]
    }
   ],
   "source": [
    "df_spark.persist()"
   ]
  },
  {
   "cell_type": "markdown",
   "metadata": {
    "application/vnd.databricks.v1+cell": {
     "cellMetadata": {},
     "inputWidgets": {},
     "nuid": "fd8cdea0-a06e-41bb-8c78-c549dcff85d6",
     "showTitle": false,
     "title": ""
    }
   },
   "source": [
    "\n",
    "3. **Persistence**: Finally, by calling `df_spark.persist()`, we instruct Spark to keep the DataFrame in memory (or store it on disk if memory is insufficient), allowing for faster access to the data during iterative or repeated actions. This is particularly useful when performing multiple actions on the same dataset, as it avoids the need to recompute the entire DataFrame from the original data source, thus saving on computation time and resources. "
   ]
  },
  {
   "cell_type": "code",
   "execution_count": 0,
   "metadata": {
    "application/vnd.databricks.v1+cell": {
     "cellMetadata": {
      "byteLimit": 2048000,
      "rowLimit": 10000
     },
     "inputWidgets": {},
     "nuid": "a5d5b739-98c3-4f59-9479-7df1739c70a5",
     "showTitle": false,
     "title": ""
    }
   },
   "outputs": [
    {
     "output_type": "stream",
     "name": "stdout",
     "output_type": "stream",
     "text": [
      "Out[27]: True"
     ]
    }
   ],
   "source": [
    "df_spark.is_cached"
   ]
  },
  {
   "cell_type": "markdown",
   "metadata": {
    "application/vnd.databricks.v1+cell": {
     "cellMetadata": {},
     "inputWidgets": {},
     "nuid": "4f144d5a-855e-47b3-9671-bc24e9cb6383",
     "showTitle": false,
     "title": ""
    }
   },
   "source": [
    "Overall, these steps are key in optimizing performance for data analysis and ensuring data integrity by maintaining a single, clean source of truth that can be efficiently queried."
   ]
  },
  {
   "cell_type": "markdown",
   "metadata": {
    "application/vnd.databricks.v1+cell": {
     "cellMetadata": {},
     "inputWidgets": {},
     "nuid": "81905037-38a5-45ea-a24f-d568da9cc530",
     "showTitle": false,
     "title": ""
    }
   },
   "source": [
    "## Step 8: Create temporary view of the data"
   ]
  },
  {
   "cell_type": "code",
   "execution_count": 0,
   "metadata": {
    "application/vnd.databricks.v1+cell": {
     "cellMetadata": {
      "byteLimit": 2048000,
      "rowLimit": 10000
     },
     "inputWidgets": {},
     "nuid": "b0942fd2-3267-4215-98ab-ff2a687efc1d",
     "showTitle": true,
     "title": "Creating a temporary view of the data"
    }
   },
   "outputs": [],
   "source": [
    "# Register the DataFrame as a temporary view\n",
    "df_spark.createOrReplaceTempView(\"view_google_play_store\")"
   ]
  },
  {
   "cell_type": "markdown",
   "metadata": {
    "application/vnd.databricks.v1+cell": {
     "cellMetadata": {},
     "inputWidgets": {},
     "nuid": "ea48be44-b13d-42fa-b99e-20cc56d714fd",
     "showTitle": false,
     "title": ""
    }
   },
   "source": [
    "Now, We are utilizing the DataFrame API to register `df_spark` as a temporary view within Spark SQL's in-memory catalog. The method `createOrReplaceTempView(\"view_google_play_store\")` is called on our DataFrame, which has the effect of naming the view \"view_google_play_store\". If a view with this name already exists, it will be replaced with the current DataFrame. This temporary view functions similarly to a SQL table that is scoped to the current session and will disappear when the session terminates. It's particularly useful for running SQL queries directly on the data without the overhead of creating a physical table, thereby streamlining our data analysis process. By doing so, we enable SQL-like query access to the data, which is ideal for ad-hoc analysis and can be especially advantageous when integrating with other SQL-based data analysis tools.\n"
   ]
  },
  {
   "cell_type": "code",
   "execution_count": 0,
   "metadata": {
    "application/vnd.databricks.v1+cell": {
     "cellMetadata": {
      "byteLimit": 2048000,
      "implicitDf": true,
      "rowLimit": 10000
     },
     "inputWidgets": {},
     "nuid": "bff9f74c-3e55-47b0-bc80-3a7cd125d39a",
     "showTitle": false,
     "title": ""
    }
   },
   "outputs": [
    {
     "output_type": "display_data",
     "data": {
      "text/html": [
       "<style scoped>\n",
       "  .table-result-container {\n",
       "    max-height: 300px;\n",
       "    overflow: auto;\n",
       "  }\n",
       "  table, th, td {\n",
       "    border: 1px solid black;\n",
       "    border-collapse: collapse;\n",
       "  }\n",
       "  th, td {\n",
       "    padding: 5px;\n",
       "  }\n",
       "  th {\n",
       "    text-align: left;\n",
       "  }\n",
       "</style><div class='table-result-container'><table class='table-result'><thead style='background-color: white'><tr><th>database</th><th>tableName</th><th>isTemporary</th></tr></thead><tbody><tr><td>default</td><td>google_cleaned_data</td><td>false</td></tr><tr><td></td><td>view_google_play_store</td><td>true</td></tr></tbody></table></div>"
      ]
     },
     "metadata": {
      "application/vnd.databricks.v1+output": {
       "addedWidgets": {},
       "aggData": [],
       "aggError": "",
       "aggOverflow": false,
       "aggSchema": [],
       "aggSeriesLimitReached": false,
       "aggType": "",
       "arguments": {},
       "columnCustomDisplayInfos": {},
       "data": [
        [
         "default",
         "google_cleaned_data",
         false
        ],
        [
         "",
         "view_google_play_store",
         true
        ]
       ],
       "datasetInfos": [],
       "dbfsResultPath": null,
       "isJsonSchema": true,
       "metadata": {},
       "overflow": false,
       "plotOptions": {
        "customPlotOptions": {},
        "displayType": "table",
        "pivotAggregation": null,
        "pivotColumns": null,
        "xColumns": null,
        "yColumns": null
       },
       "removedWidgets": [],
       "schema": [
        {
         "metadata": "{}",
         "name": "database",
         "type": "\"string\""
        },
        {
         "metadata": "{}",
         "name": "tableName",
         "type": "\"string\""
        },
        {
         "metadata": "{}",
         "name": "isTemporary",
         "type": "\"boolean\""
        }
       ],
       "type": "table"
      }
     },
     "output_type": "display_data"
    }
   ],
   "source": [
    "%sql\n",
    "SHOW TABLES"
   ]
  },
  {
   "cell_type": "markdown",
   "metadata": {
    "application/vnd.databricks.v1+cell": {
     "cellMetadata": {},
     "inputWidgets": {},
     "nuid": "65670f71-af62-4649-a83d-df3d7e8a6616",
     "showTitle": false,
     "title": ""
    }
   },
   "source": [
    "The `%sql` part tells the interpreter that the following command should be interpreted as an SQL statement.\n",
    "The `SHOW TABLES` SQL statement lists all the tables (both permanent and temporary) available in the current database."
   ]
  },
  {
   "cell_type": "code",
   "execution_count": 0,
   "metadata": {
    "application/vnd.databricks.v1+cell": {
     "cellMetadata": {
      "byteLimit": 2048000,
      "rowLimit": 10000
     },
     "inputWidgets": {},
     "nuid": "0557c2ea-e055-4d12-85cf-8c9ac67580c6",
     "showTitle": true,
     "title": "Data exploration using Spark SQL"
    }
   },
   "outputs": [
    {
     "output_type": "stream",
     "name": "stdout",
     "output_type": "stream",
     "text": [
      "+--------------+---------+-------+\n|      col_name|data_type|comment|\n+--------------+---------+-------+\n|           app|   string|   null|\n|      category|   string|   null|\n|        rating|   double|   null|\n|       reviews|      int|   null|\n|       size_MB|   string|   null|\n|      installs|      int|   null|\n|          type|   string|   null|\n|         price|    float|   null|\n|content_rating|   string|   null|\n|        genres|   string|   null|\n|  last_updated|   string|   null|\n|   current_ver|   string|   null|\n|   android_ver|   string|   null|\n+--------------+---------+-------+\n\n"
     ]
    }
   ],
   "source": [
    "spark.sql(\"describe view_google_play_store\").show(50)"
   ]
  },
  {
   "cell_type": "markdown",
   "metadata": {
    "application/vnd.databricks.v1+cell": {
     "cellMetadata": {},
     "inputWidgets": {},
     "nuid": "70e6cf90-df21-4f9f-8aeb-44de1f6f8f54",
     "showTitle": false,
     "title": ""
    }
   },
   "source": [
    "The command `spark.sql(\"describe view_google_play_store\").show(50)` initiates an SQL query that invokes the `describe` statement on the temporary view named `view_google_play_store`. This action reveals the view's detailed schema, enumerating all the columns, their respective data types, and any associated comments."
   ]
  },
  {
   "cell_type": "markdown",
   "metadata": {
    "application/vnd.databricks.v1+cell": {
     "cellMetadata": {},
     "inputWidgets": {},
     "nuid": "253e9eb7-9d1f-42ef-a226-e15100fee2e9",
     "showTitle": false,
     "title": ""
    }
   },
   "source": [
    "## Step 9 : Data exploration using Spark SQL\n",
    "\n",
    "The command `spark.sql(\"SELECT * FROM view_google_play_store\").show()` executes a fundamental SQL query that retrieves all the data from the `view_google_play_store` temporary view and then displays it. By issuing the `SELECT *`, we're asking Spark to select every column from the view. The `show()` method is then invoked to output the data, providing a quick snapshot of the entire dataset as currently structured in the view."
   ]
  },
  {
   "cell_type": "code",
   "execution_count": 0,
   "metadata": {
    "application/vnd.databricks.v1+cell": {
     "cellMetadata": {
      "byteLimit": 2048000,
      "rowLimit": 10000
     },
     "inputWidgets": {},
     "nuid": "52539fb1-44b8-4ec9-b437-fff7baad1aec",
     "showTitle": false,
     "title": ""
    }
   },
   "outputs": [
    {
     "output_type": "stream",
     "name": "stdout",
     "output_type": "stream",
     "text": [
      "+--------------------+-------------------+------+--------+------------------+---------+----+-----+--------------+--------------------+------------------+------------------+------------------+\n|                 app|           category|rating| reviews|           size_MB| installs|type|price|content_rating|              genres|      last_updated|       current_ver|       android_ver|\n+--------------------+-------------------+------+--------+------------------+---------+----+-----+--------------+--------------------+------------------+------------------+------------------+\n|            Township|             FAMILY|   4.6| 4451317|Varies with device| 50000000|Free|  0.0|      Everyone|              Casual|     July 19, 2018|             5.9.0|      4.0.3 and up|\n|      Cathay Pacific|   TRAVEL_AND_LOCAL|   3.3|    4069|              50.0|  1000000|Free|  0.0|      Everyone|      Travel & Local|     July 25, 2018|             6.6.1|        4.3 and up|\n|            Dr. 2048|             FAMILY|   3.9|    1985|               3.0|   500000|Free|  0.0|      Everyone|              Puzzle| December 30, 2017|              1.05|        4.1 and up|\n|          DL Hughley|             FAMILY|   4.6|      12|              10.0|     1000|Free|  0.0|    Mature 17+|       Entertainment|    March 23, 2018|             2.0.4|        4.1 and up|\n|      Merge Dragons!|               GAME|   4.5|  214777|              91.0|  5000000|Free|  0.0|      Everyone|              Puzzle|     July 30, 2018|             3.6.0|        4.1 and up|\n|     Viber Messenger|      COMMUNICATION|   4.3|11334799|Varies with device|500000000|Free|  0.0|      Everyone|       Communication|     July 18, 2018|Varies with device|Varies with device|\n|Bokeh (Background...|        PHOTOGRAPHY|   4.0|   50109|Varies with device| 10000000|Free|  0.0|      Everyone|         Photography|      June 7, 2018|Varies with device|Varies with device|\n|CZ-27 pistol expl...|BOOKS_AND_REFERENCE|   4.2|       1|              11.0|       10|Paid| 5.99|      Everyone|   Books & Reference| September 2, 2015|Android 3.0 - 2015|        1.6 and up|\n|Fairy Kingdom: Wo...|             FAMILY|   4.4|  129542|              63.0|  1000000|Free|  0.0|      Everyone| Strategy;Creativity|     July 23, 2018|             2.4.9|      4.0.3 and up|\n|Gboard - the Goog...|              TOOLS|   4.2| 1859115|Varies with device|500000000|Free|  0.0|      Everyone|               Tools|     July 31, 2018|Varies with device|Varies with device|\n|    Arabic Alphabets|          PARENTING|   4.2|      34|               6.0|    10000|Free|  0.0|      Everyone|           Parenting|   January 9, 2017|               1.0|        2.2 and up|\n|Voice changer wit...|             FAMILY|   4.2| 1260903|               8.0| 50000000|Free|  0.0|      Everyone|       Entertainment|    August 2, 2018|             3.4.8|        4.1 and up|\n|             JOBS.bg|           BUSINESS|   4.4|    1630|               2.0|   100000|Free|  0.0|      Everyone|            Business|   August 22, 2017|             3.1.0|        4.4 and up|\n|        S Pen Keeper|              TOOLS|   3.8|     560|             0.314|    50000|Free|  0.0|      Everyone|               Tools|      June 8, 2018|         2.1.0.032|      4.0.3 and up|\n|N Launcher: Nouga...|    PERSONALIZATION|   4.2|     128|               7.0|    10000|Free|  0.0|      Everyone|     Personalization|     June 13, 2017|               1.0|        4.1 and up|\n|Fancy Pants Adven...|               GAME|   4.7|   55952|              61.0|  1000000|Free|  0.0|  Everyone 10+|              Arcade|     July 13, 2017|            1.0.10|        4.1 and up|\n|Music for Youtube...|      VIDEO_PLAYERS|   4.3|      47|               8.0|     1000|Free|  0.0|          Teen|Video Players & E...|September 23, 2017|              1.10|        4.2 and up|\n|Talkie - Wi-Fi Ca...|      COMMUNICATION|   4.2|    4838|Varies with device|   500000|Free|  0.0|      Everyone|       Communication|   January 6, 2018|Varies with device|Varies with device|\n|         HealtheLife|            MEDICAL|   3.6|     190|               7.0|   100000|Free|  0.0|      Everyone|             Medical|   January 2, 2018|             2.4.0|        4.4 and up|\n|Cake Shop - Kids ...|             FAMILY|   4.3|   30668|              33.0|  5000000|Free|  0.0|      Everyone| Casual;Pretend Play|     July 16, 2018|          2.1.3181|      4.0.3 and up|\n+--------------------+-------------------+------+--------+------------------+---------+----+-----+--------------+--------------------+------------------+------------------+------------------+\nonly showing top 20 rows\n\n"
     ]
    }
   ],
   "source": [
    "# Execute the SQL query and display the results\n",
    "spark.sql(\"SELECT * FROM view_google_play_store\").show()"
   ]
  },
  {
   "cell_type": "markdown",
   "metadata": {
    "application/vnd.databricks.v1+cell": {
     "cellMetadata": {},
     "inputWidgets": {},
     "nuid": "64f3c4d9-6339-4f04-a4be-e8fdc0261a78",
     "showTitle": false,
     "title": ""
    }
   },
   "source": [
    "### 1. Count the number of apps in each category\n",
    "\n",
    "In this command, we're running an SQL query using Spark's SQL functionality to delve deeper into our dataset. The query is `\"SELECT category, COUNT(*) AS count FROM view_google_play_store GROUP BY category ORDER BY count DESC\"`. This action allows us to select the `category` and the count of records for each category. By applying `GROUP BY category`, we group the data according to app categories, and then with `ORDER BY count DESC`, we sort them so the categories with the most apps are listed first. The `COUNT(*) AS count` part of the query computes the number of apps in each category, and `show()` is used to display these findings."
   ]
  },
  {
   "cell_type": "code",
   "execution_count": 0,
   "metadata": {
    "application/vnd.databricks.v1+cell": {
     "cellMetadata": {
      "byteLimit": 2048000,
      "rowLimit": 10000
     },
     "inputWidgets": {},
     "nuid": "1dabbcf6-4d9d-4c64-87d1-8d8a1bde2fc8",
     "showTitle": false,
     "title": ""
    }
   },
   "outputs": [
    {
     "output_type": "stream",
     "name": "stdout",
     "output_type": "stream",
     "text": [
      "+-------------------+-----+\n|           category|count|\n+-------------------+-----+\n|             FAMILY| 1832|\n|               GAME|  959|\n|              TOOLS|  827|\n|           BUSINESS|  420|\n|            MEDICAL|  395|\n|    PERSONALIZATION|  376|\n|       PRODUCTIVITY|  374|\n|          LIFESTYLE|  369|\n|            FINANCE|  345|\n|             SPORTS|  325|\n|      COMMUNICATION|  315|\n| HEALTH_AND_FITNESS|  287|\n|        PHOTOGRAPHY|  281|\n| NEWS_AND_MAGAZINES|  254|\n|             SOCIAL|  239|\n|BOOKS_AND_REFERENCE|  222|\n|   TRAVEL_AND_LOCAL|  219|\n|           SHOPPING|  202|\n|             DATING|  171|\n|      VIDEO_PLAYERS|  163|\n+-------------------+-----+\nonly showing top 20 rows\n\n"
     ]
    }
   ],
   "source": [
    "spark.sql(\"SELECT category, COUNT(*) AS count FROM view_google_play_store GROUP BY category ORDER BY count DESC\").show()"
   ]
  },
  {
   "cell_type": "markdown",
   "metadata": {
    "application/vnd.databricks.v1+cell": {
     "cellMetadata": {},
     "inputWidgets": {},
     "nuid": "15670905-a6a5-4792-92d9-2cb1a8ee4857",
     "showTitle": false,
     "title": ""
    }
   },
   "source": [
    "### 2. Find the top 10 most reviewed apps\n",
    "\n",
    "In this piece of code, we're leveraging Spark SQL to fetch information about the top 10 most reviewed apps in our dataset. The query `SELECT app, reviews FROM view_google_play_store ORDER BY reviews DESC LIMIT 10` sorts the apps based on the `reviews` column in descending order, which means the apps with the highest number of reviews will come up at the top. By setting a `LIMIT 10`, we restrict the output to just the top 10 records. This gives us a concise list of the apps that have garnered the most user feedback, which can be a proxy for their popularity or user engagement. The `show()` function is then used to display this list. We're using this query to pinpoint the standout apps that are resonating with users."
   ]
  },
  {
   "cell_type": "code",
   "execution_count": 0,
   "metadata": {
    "application/vnd.databricks.v1+cell": {
     "cellMetadata": {
      "byteLimit": 2048000,
      "rowLimit": 10000
     },
     "inputWidgets": {},
     "nuid": "d0e7b523-f2d6-447e-9c2e-2109330d1dfb",
     "showTitle": false,
     "title": ""
    }
   },
   "outputs": [
    {
     "output_type": "stream",
     "name": "stdout",
     "output_type": "stream",
     "text": [
      "+--------------------+--------+\n|                 app| reviews|\n+--------------------+--------+\n|            Facebook|78158306|\n|  WhatsApp Messenger|69119316|\n|           Instagram|66577313|\n|Messenger – Text ...|56642847|\n|      Clash of Clans|44891723|\n|Clean Master- Spa...|42916526|\n|      Subway Surfers|27722264|\n|             YouTube|25655305|\n|Security Master -...|24900999|\n|        Clash Royale|23133508|\n+--------------------+--------+\n\n"
     ]
    }
   ],
   "source": [
    "spark.sql(\"SELECT app, reviews FROM view_google_play_store ORDER BY reviews DESC LIMIT 10\").show()"
   ]
  },
  {
   "cell_type": "markdown",
   "metadata": {
    "application/vnd.databricks.v1+cell": {
     "cellMetadata": {},
     "inputWidgets": {},
     "nuid": "6110ab0f-90f4-4ecf-9ead-9a5f9963ead2",
     "showTitle": false,
     "title": ""
    }
   },
   "source": [
    "### 3. Count the number of apps for each content rating\n",
    "\n",
    "In this command, we're utilizing Spark SQL to perform a grouped analysis of our dataset based on content ratings. The query `SELECT content_rating, COUNT(*) AS count FROM view_google_play_store GROUP BY content_rating ORDER BY count DESC` focuses on the `content_rating` column. Here, we group the entries by their content ratings, and then count how many apps fall under each rating. By using `ORDER BY count DESC`, we sort these groups so that the ratings with the highest number of apps appear first. This approach helps us understand which content ratings are most common in the dataset, indicating the general target audience of apps in the Google Play Store. We use `show()` to display these results, giving us a clear overview of content rating distribution among the apps."
   ]
  },
  {
   "cell_type": "code",
   "execution_count": 0,
   "metadata": {
    "application/vnd.databricks.v1+cell": {
     "cellMetadata": {
      "byteLimit": 2048000,
      "rowLimit": 10000
     },
     "inputWidgets": {},
     "nuid": "f0ed49e2-5949-4c28-8860-0d82d0807d19",
     "showTitle": false,
     "title": ""
    }
   },
   "outputs": [
    {
     "output_type": "stream",
     "name": "stdout",
     "output_type": "stream",
     "text": [
      "+---------------+-----+\n| content_rating|count|\n+---------------+-----+\n|       Everyone| 7901|\n|           Teen| 1036|\n|     Mature 17+|  392|\n|   Everyone 10+|  322|\n|Adults only 18+|    3|\n|        Unrated|    2|\n+---------------+-----+\n\n"
     ]
    }
   ],
   "source": [
    "spark.sql(\"SELECT content_rating, COUNT(*) AS count FROM view_google_play_store GROUP BY content_rating ORDER BY count DESC\").show()"
   ]
  },
  {
   "cell_type": "markdown",
   "metadata": {
    "application/vnd.databricks.v1+cell": {
     "cellMetadata": {},
     "inputWidgets": {},
     "nuid": "a9ed5b24-fa90-4c83-ab10-664734a0ddac",
     "showTitle": false,
     "title": ""
    }
   },
   "source": [
    "### 4. Find the top 10 categories with the highest number of installs\n",
    "\n",
    "In this query, we're utilizing Spark SQL to analyze the total number of installations per category within our dataset. The command `SELECT category, SUM(CAST(installs AS INT)) AS total_installs FROM view_google_play_store GROUP BY category ORDER BY total_installs DESC LIMIT 10` is structured to calculate the sum of installs, which we explicitly cast to integers to ensure accurate summation. We group the results by `category` to aggregate the installation counts for each category. The query sorts these results in descending order by `total_installs` to highlight the categories with the highest overall user engagement. We limit the output to the top 10 categories to focus on the most significant ones. This provides us with valuable insights into which app categories are the most popular, based on the volume of installations. The `show()` method displays these top categories, effectively summarizing the market's dominant segments."
   ]
  },
  {
   "cell_type": "code",
   "execution_count": 0,
   "metadata": {
    "application/vnd.databricks.v1+cell": {
     "cellMetadata": {
      "byteLimit": 2048000,
      "rowLimit": 10000
     },
     "inputWidgets": {},
     "nuid": "34c871cf-a625-4dbc-a638-8e6377c2e337",
     "showTitle": false,
     "title": ""
    }
   },
   "outputs": [
    {
     "output_type": "stream",
     "name": "stdout",
     "output_type": "stream",
     "text": [
      "+------------------+--------------+\n|          category|total_installs|\n+------------------+--------------+\n|              GAME|   13878924415|\n|     COMMUNICATION|   11038276251|\n|             TOOLS|    8001771915|\n|      PRODUCTIVITY|    5793091369|\n|            SOCIAL|    5487867902|\n|       PHOTOGRAPHY|    4649147655|\n|            FAMILY|    4427941505|\n|     VIDEO_PLAYERS|    3926902720|\n|  TRAVEL_AND_LOCAL|    2894887146|\n|NEWS_AND_MAGAZINES|    2369217760|\n+------------------+--------------+\n\n"
     ]
    }
   ],
   "source": [
    "spark.sql(\"SELECT category, SUM(CAST(installs AS INT)) AS total_installs FROM view_google_play_store GROUP BY category ORDER BY total_installs DESC LIMIT 10\").show()"
   ]
  },
  {
   "cell_type": "markdown",
   "metadata": {
    "application/vnd.databricks.v1+cell": {
     "cellMetadata": {},
     "inputWidgets": {},
     "nuid": "b1e4f876-bcdf-4e1c-9fea-8a253d092b09",
     "showTitle": false,
     "title": ""
    }
   },
   "source": [
    "### 5. To retrieve \"Free\" Games from Google Play Store\n",
    "\n",
    "In this SQL command, we're using Spark SQL to specifically target and analyze apps from the 'GAME' category that are free. The query `SELECT * FROM view_google_play_store WHERE category = 'GAME' AND type = 'Free'` filters our dataset to include only those entries where the `category` is 'GAME' and the `type` is 'Free'. This allows us to isolate and examine the subset of apps that are both in a highly popular category and freely available to users, which are often of high interest both to consumers and market analysts. The use of `show()` at the end of the query displays the data for these specific apps, giving us detailed visibility into the characteristics and metadata of free games on the Google Play Store."
   ]
  },
  {
   "cell_type": "code",
   "execution_count": 0,
   "metadata": {
    "application/vnd.databricks.v1+cell": {
     "cellMetadata": {
      "byteLimit": 2048000,
      "rowLimit": 10000
     },
     "inputWidgets": {},
     "nuid": "b1e41c34-18c6-4bd3-8e0a-3c8568ff9507",
     "showTitle": false,
     "title": ""
    }
   },
   "outputs": [
    {
     "output_type": "stream",
     "name": "stdout",
     "output_type": "stream",
     "text": [
      "+--------------------+--------+------+-------+------------------+---------+----+-----+--------------+---------+------------------+------------------+------------------+\n|                 app|category|rating|reviews|           size_MB| installs|type|price|content_rating|   genres|      last_updated|       current_ver|       android_ver|\n+--------------------+--------+------+-------+------------------+---------+----+-----+--------------+---------+------------------+------------------+------------------+\n|      Merge Dragons!|    GAME|   4.5| 214777|              91.0|  5000000|Free|  0.0|      Everyone|   Puzzle|     July 30, 2018|             3.6.0|        4.1 and up|\n|Fancy Pants Adven...|    GAME|   4.7|  55952|              61.0|  1000000|Free|  0.0|  Everyone 10+|   Arcade|     July 13, 2017|            1.0.10|        4.1 and up|\n|        Dr. Dominoes|    GAME|   4.0|   2700|               5.0|   500000|Free|  0.0|      Everyone|    Board|   January 3, 2018|              1.06|        4.1 and up|\n|KIM KARDASHIAN: H...|    GAME|   4.3|1017408|              34.0| 10000000|Free|  0.0|          Teen|Adventure|     July 16, 2018|             9.2.0|        4.0 and up|\n|          Iron Blade|    GAME|   4.4| 161637|              82.0| 10000000|Free|  0.0|    Mature 17+|   Action|     July 18, 2018|            1.7.0m|      4.0.3 and up|\n|American Sniper C...|    GAME|   4.1|    395|              54.0|    50000|Free|  0.0|          Teen|   Action| November 24, 2017|               1.4|        2.3 and up|\n|Modern Strike Online|    GAME|   4.3| 834117|              44.0| 10000000|Free|  0.0|          Teen|   Action|     July 30, 2018|            1.25.4|        4.1 and up|\n|China Town Auto T...|    GAME|   4.1|    364|              67.0|    50000|Free|  0.0|  Everyone 10+|   Action|      May 23, 2018|Varies with device|      4.0.3 and up|\n|     Jetpack Joyride|    GAME|   4.4|4638163|              96.0|100000000|Free|  0.0|  Everyone 10+|   Arcade|     July 19, 2018|           1.10.12|        4.1 and up|\n|         211:CK Lite|    GAME|   4.3|      3|              39.0|       10|Free|  0.0|    Mature 17+|   Action|September 22, 2017|               1.0|        4.1 and up|\n|Draw N Guess Mult...|    GAME|   3.9|  29505|              69.0|  1000000|Free|  0.0|      Everyone|     Word|     April 4, 2018|            3.0.11|      4.0.3 and up|\n|AE 3D MOTOR :Raci...|    GAME|   4.2|  74902|Varies with device|  5000000|Free|  0.0|      Everyone|   Racing|   August 26, 2016|Varies with device|Varies with device|\n|     Moto Fighter 3D|    GAME|   3.9|  85410|              39.0| 10000000|Free|  0.0|  Everyone 10+|   Racing|September 20, 2017|          20170920|        4.1 and up|\n|Bike Race - Bike ...|    GAME|   4.4|  83891|              48.0| 10000000|Free|  0.0|      Everyone|   Action|     July 19, 2018|               3.1|        4.0 and up|\n|          Bullshite!|    GAME|   2.8|     48|              13.0|    10000|Free|  0.0|          Teen|     Card|    April 10, 2016|             1.0.1|        4.1 and up|\n|Fruit Block - Puz...|    GAME|   4.6| 125647|              33.0| 10000000|Free|  0.0|      Everyone|   Casual|     July 23, 2018|                60|        4.1 and up|\n|Puppy Shooting an...|    GAME|   4.8|     21|              89.0|     1000|Free|  0.0|      Everyone|   Arcade|    March 30, 2018|           0.46.91|        4.4 and up|\n|Stick 'Em Up 2 St...|    GAME|   3.8|   2102|              40.0|   100000|Free|  0.0|  Everyone 10+|   Action|September 11, 2015|             1.1.3|      4.0.3 and up|\n|Super Car F. Mod ...|    GAME|   3.6|    214|               4.0|    50000|Free|  0.0|      Everyone|Adventure|     July 19, 2018|             3.0.1|        4.2 and up|\n|Drink-O-Tron The ...|    GAME|   4.1|    140|              45.0|    50000|Free|  0.0|    Mature 17+|     Card|      May 31, 2017|              1.64|      4.0.3 and up|\n+--------------------+--------+------+-------+------------------+---------+----+-----+--------------+---------+------------------+------------------+------------------+\nonly showing top 20 rows\n\n"
     ]
    }
   ],
   "source": [
    "spark.sql(\"SELECT * FROM view_google_play_store WHERE category = 'GAME' AND type = 'Free'\").show()"
   ]
  },
  {
   "cell_type": "markdown",
   "metadata": {
    "application/vnd.databricks.v1+cell": {
     "cellMetadata": {},
     "inputWidgets": {},
     "nuid": "abbac096-ea0a-4bef-bf1f-93893ca362b1",
     "showTitle": false,
     "title": ""
    }
   },
   "source": [
    "### 6. To find the average rating of free games\n",
    "\n",
    "In this segment of our SQL analysis, we're focusing on evaluating the average rating of free games within the 'GAME' category. The command encapsulates a subquery where we first filter out apps from the dataset that belong to the 'GAME' category and are marked as 'Free'. This filtered subset of the dataset is then used to compute the average rating. The query `SELECT ROUND(AVG(rating), 1) AS avg_rating_free_games FROM (SELECT * FROM view_google_play_store WHERE category = 'GAME' AND type = 'Free')` calculates the average rating and rounds it to one decimal place, providing a concise measure of the overall user satisfaction with free games. The `show()` method at the end displays this average rating, giving us a clear metric to gauge the quality perception of these apps by users."
   ]
  },
  {
   "cell_type": "code",
   "execution_count": 0,
   "metadata": {
    "application/vnd.databricks.v1+cell": {
     "cellMetadata": {
      "byteLimit": 2048000,
      "rowLimit": 10000
     },
     "inputWidgets": {},
     "nuid": "51756f4a-b881-4efa-ae29-22a5927fa022",
     "showTitle": false,
     "title": ""
    }
   },
   "outputs": [
    {
     "output_type": "stream",
     "name": "stdout",
     "output_type": "stream",
     "text": [
      "+---------------------+\n|avg_rating_free_games|\n+---------------------+\n|                  4.2|\n+---------------------+\n\n"
     ]
    }
   ],
   "source": [
    "#5.1 Subquery to find the average rating of free games:\n",
    "spark.sql(\"\"\"\n",
    "          SELECT ROUND(AVG(rating), 1) AS avg_rating_free_games \n",
    "          FROM (SELECT * \n",
    "                FROM view_google_play_store \n",
    "                WHERE category = 'GAME' AND type = 'Free')\n",
    "          \"\"\").show()"
   ]
  },
  {
   "cell_type": "markdown",
   "metadata": {
    "application/vnd.databricks.v1+cell": {
     "cellMetadata": {},
     "inputWidgets": {},
     "nuid": "58fda6d3-18e9-40d3-81b3-2b7c01c1ce9a",
     "showTitle": false,
     "title": ""
    }
   },
   "source": [
    "### 7. To find the total number of reviews for paid games\n",
    "\n",
    "In this SQL query, we're targeting an analysis of user engagement with paid games in the 'GAME' category. The command involves a subquery that first filters the apps by selecting only those that fall under the 'GAME' category and are labeled as 'Paid'. This focused subset is then used to calculate the total number of reviews, which serves as an indicator of user interaction and engagement. The query `SELECT SUM(reviews) AS total_reviews_paid_games FROM (SELECT * FROM view_google_play_store WHERE category = 'GAME' AND type = 'Paid')` sums up all the reviews for these paid games. This sum provides insight into how much paid games are being interacted with in comparison to their free counterparts. The `show()` function at the end displays the total number of reviews, giving us a valuable metric of engagement for paid games on the platform."
   ]
  },
  {
   "cell_type": "code",
   "execution_count": 0,
   "metadata": {
    "application/vnd.databricks.v1+cell": {
     "cellMetadata": {
      "byteLimit": 2048000,
      "rowLimit": 10000
     },
     "inputWidgets": {},
     "nuid": "68a7d899-bcf7-435a-a73f-5306c83efd91",
     "showTitle": false,
     "title": ""
    }
   },
   "outputs": [
    {
     "output_type": "stream",
     "name": "stdout",
     "output_type": "stream",
     "text": [
      "+------------------------+\n|total_reviews_paid_games|\n+------------------------+\n|                 1572851|\n+------------------------+\n\n"
     ]
    }
   ],
   "source": [
    "spark.sql(\"\"\"\n",
    "          SELECT SUM(reviews) AS total_reviews_paid_games \n",
    "          FROM (SELECT * \n",
    "                FROM view_google_play_store \n",
    "                WHERE category = 'GAME' AND type = 'Paid')\n",
    "          \"\"\").show()"
   ]
  },
  {
   "cell_type": "markdown",
   "metadata": {
    "application/vnd.databricks.v1+cell": {
     "cellMetadata": {},
     "inputWidgets": {},
     "nuid": "ae78dd9c-3ab4-4991-9aed-a06a7559c3d3",
     "showTitle": false,
     "title": ""
    }
   },
   "source": [
    "### 8. Retrieve Top 10 Most Popular Games with Highest Ratings\n",
    "\n",
    "In this query, we focus on identifying the top-performing games in terms of user reviews and ratings within the 'GAME' category. We employ a structured SQL query to select each app's name, along with the maximum number of reviews (`MAX(reviews)`) and the highest rating (`MAX(rating)`) it has received."
   ]
  },
  {
   "cell_type": "code",
   "execution_count": 0,
   "metadata": {
    "application/vnd.databricks.v1+cell": {
     "cellMetadata": {
      "byteLimit": 2048000,
      "rowLimit": 10000
     },
     "inputWidgets": {},
     "nuid": "5645d271-0630-464e-881b-f289da76fdda",
     "showTitle": false,
     "title": ""
    }
   },
   "outputs": [
    {
     "output_type": "stream",
     "name": "stdout",
     "output_type": "stream",
     "text": [
      "+--------------------+-----------+----------+\n|                 app|max_reviews|max_rating|\n+--------------------+-----------+----------+\n|      Clash of Clans|   44891723|       4.6|\n|      Subway Surfers|   27722264|       4.5|\n|        Clash Royale|   23133508|       4.6|\n|    Candy Crush Saga|   22426677|       4.4|\n|      My Talking Tom|   14891223|       4.5|\n|         8 Ball Pool|   14198297|       4.5|\n|      Shadow Fight 2|   10979062|       4.6|\n|                 Pou|   10485308|       4.3|\n|          Pokémon GO|   10424925|       4.1|\n|Minion Rush: Desp...|   10216538|       4.5|\n+--------------------+-----------+----------+\n\n"
     ]
    }
   ],
   "source": [
    "spark.sql(\"\"\"\n",
    "          SELECT app, MAX(reviews) AS max_reviews, MAX(rating) AS max_rating\n",
    "          FROM view_google_play_store \n",
    "          WHERE category = 'GAME'\n",
    "          GROUP BY app\n",
    "          ORDER BY max_reviews DESC\n",
    "          LIMIT 10\n",
    "          \"\"\").show()"
   ]
  }
 ],
 "metadata": {
  "application/vnd.databricks.v1+notebook": {
   "dashboards": [],
   "language": "python",
   "notebookMetadata": {
    "mostRecentlyExecutedCommandWithImplicitDF": {
     "commandId": 2401145873789840,
     "dataframes": [
      "_sqldf"
     ]
    },
    "pythonIndentUnit": 4
   },
   "notebookName": "A5PySpark_Team_APOGEE (1) (1)",
   "widgets": {}
  },
  "language_info": {
   "name": "python"
  }
 },
 "nbformat": 4,
 "nbformat_minor": 0
}
